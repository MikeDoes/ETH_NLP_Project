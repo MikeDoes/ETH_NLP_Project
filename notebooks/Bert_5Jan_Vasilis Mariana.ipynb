{
 "cells": [
  {
   "cell_type": "code",
   "execution_count": 1,
   "id": "87318fa5",
   "metadata": {
    "colab": {
     "base_uri": "https://localhost:8080/"
    },
    "collapsed": true,
    "id": "87318fa5",
    "outputId": "00408180-77ad-486b-9d33-12f613b4bee1"
   },
   "outputs": [
    {
     "name": "stdout",
     "output_type": "stream",
     "text": [
      "Defaulting to user installation because normal site-packages is not writeable\n",
      "Requirement already satisfied: sentencepiece in c:\\users\\mariana\\appdata\\roaming\\python\\python38\\site-packages (0.1.96)\n"
     ]
    },
    {
     "name": "stderr",
     "output_type": "stream",
     "text": [
      "WARNING: pip is being invoked by an old script wrapper. This will fail in a future version of pip.\n",
      "Please see https://github.com/pypa/pip/issues/5599 for advice on fixing the underlying issue.\n",
      "To avoid this problem you can invoke Python with '-m pip' instead of running pip directly.\n"
     ]
    },
    {
     "name": "stdout",
     "output_type": "stream",
     "text": [
      "Defaulting to user installation because normal site-packages is not writeable\n",
      "Requirement already satisfied: tokenizers in c:\\users\\mariana\\appdata\\roaming\\python\\python38\\site-packages (0.10.3)\n"
     ]
    },
    {
     "name": "stderr",
     "output_type": "stream",
     "text": [
      "WARNING: pip is being invoked by an old script wrapper. This will fail in a future version of pip.\n",
      "Please see https://github.com/pypa/pip/issues/5599 for advice on fixing the underlying issue.\n",
      "To avoid this problem you can invoke Python with '-m pip' instead of running pip directly.\n"
     ]
    },
    {
     "name": "stdout",
     "output_type": "stream",
     "text": [
      "Defaulting to user installation because normal site-packages is not writeable\n",
      "Requirement already satisfied: transformers in c:\\users\\mariana\\appdata\\roaming\\python\\python38\\site-packages (4.13.0)\n",
      "Requirement already satisfied: numpy>=1.17 in c:\\users\\mariana\\appdata\\roaming\\python\\python38\\site-packages (from transformers) (1.21.3)\n",
      "Requirement already satisfied: packaging>=20.0 in c:\\users\\mariana\\appdata\\roaming\\python\\python38\\site-packages (from transformers) (21.2)\n",
      "Requirement already satisfied: tokenizers<0.11,>=0.10.1 in c:\\users\\mariana\\appdata\\roaming\\python\\python38\\site-packages (from transformers) (0.10.3)\n",
      "Requirement already satisfied: filelock in c:\\users\\mariana\\appdata\\roaming\\python\\python38\\site-packages (from transformers) (3.4.0)\n",
      "Requirement already satisfied: pyyaml>=5.1 in c:\\users\\mariana\\appdata\\roaming\\python\\python38\\site-packages (from transformers) (6.0)\n",
      "Requirement already satisfied: huggingface-hub<1.0,>=0.1.0 in c:\\users\\mariana\\appdata\\roaming\\python\\python38\\site-packages (from transformers) (0.2.1)\n",
      "Requirement already satisfied: requests in c:\\users\\mariana\\appdata\\roaming\\python\\python38\\site-packages (from transformers) (2.26.0)\n",
      "Requirement already satisfied: tqdm>=4.27 in c:\\users\\mariana\\appdata\\roaming\\python\\python38\\site-packages (from transformers) (4.62.3)\n",
      "Requirement already satisfied: sacremoses in c:\\users\\mariana\\appdata\\roaming\\python\\python38\\site-packages (from transformers) (0.0.46)\n",
      "Requirement already satisfied: regex!=2019.12.17 in c:\\users\\mariana\\appdata\\roaming\\python\\python38\\site-packages (from transformers) (2021.11.10)\n",
      "Requirement already satisfied: typing-extensions>=3.7.4.3 in c:\\users\\mariana\\appdata\\roaming\\python\\python38\\site-packages (from huggingface-hub<1.0,>=0.1.0->transformers) (3.10.0.2)\n",
      "Requirement already satisfied: pyparsing<3,>=2.0.2 in c:\\users\\mariana\\appdata\\roaming\\python\\python38\\site-packages (from packaging>=20.0->transformers) (2.4.7)\n",
      "Requirement already satisfied: colorama in c:\\users\\mariana\\appdata\\roaming\\python\\python38\\site-packages (from tqdm>=4.27->transformers) (0.4.4)\n",
      "Requirement already satisfied: certifi>=2017.4.17 in c:\\users\\mariana\\appdata\\roaming\\python\\python38\\site-packages (from requests->transformers) (2021.10.8)\n"
     ]
    },
    {
     "name": "stderr",
     "output_type": "stream",
     "text": [
      "WARNING: pip is being invoked by an old script wrapper. This will fail in a future version of pip.\n",
      "Please see https://github.com/pypa/pip/issues/5599 for advice on fixing the underlying issue.\n",
      "To avoid this problem you can invoke Python with '-m pip' instead of running pip directly.\n"
     ]
    },
    {
     "name": "stdout",
     "output_type": "stream",
     "text": [
      "Requirement already satisfied: urllib3<1.27,>=1.21.1 in c:\\users\\mariana\\appdata\\roaming\\python\\python38\\site-packages (from requests->transformers) (1.26.7)\n",
      "Requirement already satisfied: charset-normalizer~=2.0.0 in c:\\users\\mariana\\appdata\\roaming\\python\\python38\\site-packages (from requests->transformers) (2.0.7)\n",
      "Requirement already satisfied: idna<4,>=2.5 in c:\\users\\mariana\\appdata\\roaming\\python\\python38\\site-packages (from requests->transformers) (3.3)\n",
      "Requirement already satisfied: six in c:\\users\\mariana\\appdata\\roaming\\python\\python38\\site-packages (from sacremoses->transformers) (1.16.0)\n",
      "Requirement already satisfied: click in c:\\users\\mariana\\appdata\\roaming\\python\\python38\\site-packages (from sacremoses->transformers) (8.0.3)\n",
      "Requirement already satisfied: joblib in c:\\users\\mariana\\appdata\\roaming\\python\\python38\\site-packages (from sacremoses->transformers) (1.1.0)\n",
      "Defaulting to user installation because normal site-packages is not writeable\n",
      "Requirement already satisfied: nltk in c:\\users\\mariana\\appdata\\roaming\\python\\python38\\site-packages (3.6.5)\n",
      "Requirement already satisfied: click in c:\\users\\mariana\\appdata\\roaming\\python\\python38\\site-packages (from nltk) (8.0.3)\n",
      "Requirement already satisfied: joblib in c:\\users\\mariana\\appdata\\roaming\\python\\python38\\site-packages (from nltk) (1.1.0)\n",
      "Requirement already satisfied: regex>=2021.8.3 in c:\\users\\mariana\\appdata\\roaming\\python\\python38\\site-packages (from nltk) (2021.11.10)\n",
      "Requirement already satisfied: tqdm in c:\\users\\mariana\\appdata\\roaming\\python\\python38\\site-packages (from nltk) (4.62.3)\n",
      "Requirement already satisfied: colorama in c:\\users\\mariana\\appdata\\roaming\\python\\python38\\site-packages (from click->nltk) (0.4.4)\n"
     ]
    },
    {
     "name": "stderr",
     "output_type": "stream",
     "text": [
      "WARNING: pip is being invoked by an old script wrapper. This will fail in a future version of pip.\n",
      "Please see https://github.com/pypa/pip/issues/5599 for advice on fixing the underlying issue.\n",
      "To avoid this problem you can invoke Python with '-m pip' instead of running pip directly.\n"
     ]
    }
   ],
   "source": [
    "#requirements\n",
    "!pip install sentencepiece\n",
    "!pip install tokenizers\n",
    "!pip install transformers\n",
    "!pip install nltk\n",
    "\n",
    "import urllib\n",
    "import torch.nn as nn\n",
    "import json\n",
    "import torch\n",
    "import pandas as pd\n",
    "import numpy as np\n",
    "import transformers\n",
    "from transformers import BertTokenizer, BertForPreTraining, BertConfig, AdamW  \n",
    "\n",
    "from transformers import AutoTokenizer, BertForMaskedLM\n",
    "from transformers import TFBertForTokenClassification\n",
    "from tokenizers import BertWordPieceTokenizer\n",
    "\n",
    "from nltk.tokenize import WhitespaceTokenizer\n",
    "import tensorflow as tf\n",
    "\n",
    "import os\n",
    "import re #regular expression\n",
    "\n",
    "import string \n",
    "from pathlib import Path\n",
    "from torch.utils.data import Dataset , DataLoader\n",
    "# /https://huggingface.co/docs/transformers/model_doc/bert#transformers.TFBertForTokenClassification.**kwargs"
   ]
  },
  {
   "cell_type": "code",
   "execution_count": 4,
   "id": "18411ed7",
   "metadata": {
    "id": "18411ed7"
   },
   "outputs": [],
   "source": [
    "#PARAMETERS\n",
    "# special tokens\n",
    "special_tokens = [\"[PAD]\", \"[UNK]\", \"[CLS]\", \"[SEP]\", \"[MASK]\", \"<S>\", \"<T>\"]\n",
    "# special_tokens=['<s>', '<pad>', '</s>', '<unk>', '<mask>'])\n",
    "# 30,522 vocab is BERT's default vocab size, feel free to tweak\n",
    "vocab_size = 30_522\n",
    "# maximum sequence length, lowering will result to faster training (when increasing batch size)\n",
    "max_length = 512\n",
    "# whether to truncate\n",
    "truncate_longer_samples = True\n",
    "EPOCHS=25\n",
    "ACCUM_STEPS=5\n",
    "NUM_EPOCHS=100\n",
    "BATCH_SIZE=4\n",
    "SEED =42\n",
    "RETURN_TENSORS = False\n",
    "LEARNING_RATE = 5e-5"
   ]
  },
  {
   "cell_type": "code",
   "execution_count": 5,
   "id": "90534bbf",
   "metadata": {
    "colab": {
     "base_uri": "https://localhost:8080/",
     "height": 145,
     "referenced_widgets": [
      "e4a188f9110d4b7587a4d91a5a2e08d4",
      "96977873ddc6464c8eb3702d4f82421a",
      "d57fb016b7dd4b66b83f4628c470e7df",
      "a83e8e4f9c8044268e9a703e69d4274b",
      "4369fcbf7613428fbe061d969eaf4314",
      "f0c2e6f7abe24173a9ff93c9fbee3b5b",
      "d9e6e0da5c194441ada7a0ac375c725c",
      "3b31ef7cef364b8c9dda7e27928e60aa",
      "0eb659834bd74177a3580db818ac0c08",
      "fef4a5d0e41f4322a38bbf5c50c4ba9b",
      "e2ad8880d365431aba11c59d977282f1",
      "6886e567a43543518a00c7b2e5fa0a11",
      "18d95e51b48346f7a87cb881d3e9abb7",
      "fa9a897c04f647fa93bca30136a6c929",
      "267980d9d99140879ab79a6e60027865",
      "18556e4847de4e0b984f125d8160d7e6",
      "0a3eca5b7d174041b831183df885b535",
      "ba59e48a10e047c29879275498d32cdd",
      "d2c4f90729c54b7d9cd21e332a2ccb50",
      "cb1997ca843547b3b1735bd83991d57a",
      "76d2b2bbd3cc47929b45ddad4e1e8c8d",
      "3e1e2538702b4469a27eb7c16894638a",
      "e67b57578f25487b889584e84edec02d",
      "a5903e978de846b19b865cc3b5c5da04",
      "96902c463ceb450f9ba90749e807802c",
      "1880191ac1ba4941b331f9963b7c7b8a",
      "1ab99b1c053a4b41bd9d9e96a1435826",
      "0b5db35bc2b844babb7e9abad774e022",
      "e308a76f18d547e68a6145b1964a034c",
      "1cdece61ae7b42a0990ee8dd37bdf7a9",
      "5b450b0f9dfb4b7d89334afbddda4f23",
      "094e7147bc8a4b48920da77956dad21f",
      "05eeea4639bf4c29a8ec233a07ab9115",
      "a41004a8154c47ae90d6107b45e7b691",
      "31703857b7e74979abe8c0a71b2a9807",
      "04898636062345d1b217a780a6d2d660",
      "f9122fbc9340430a825db787e293313f",
      "0f9e37d54e0746479d29fb43d942c0d7",
      "c38c8d3ad88f449a8197469cd88ad6aa",
      "d02283bbaaa9448aa0512263f9fe39cd",
      "eb7e46f2dc1d4f68ad433b5daf7d620a",
      "f2ee9eda404c443ebc64e85296c4fb43",
      "a6d067b473b442feb43c22655e4be5cc",
      "30957dc7cb794adc94fe988508aa835a"
     ]
    },
    "id": "90534bbf",
    "outputId": "ee97f29f-f26d-4d4e-bdfa-d7778aac1129"
   },
   "outputs": [
    {
     "ename": "OSError",
     "evalue": "Can't load tokenizer for 'bert-base-cased'. Make sure that:\n\n- 'bert-base-cased' is a correct model identifier listed on 'https://huggingface.co/models'\n  (make sure 'bert-base-cased' is not a path to a local directory with something else, in that case)\n\n- or 'bert-base-cased' is the correct path to a directory containing relevant tokenizer files\n\n",
     "output_type": "error",
     "traceback": [
      "\u001b[1;31m---------------------------------------------------------------------------\u001b[0m",
      "\u001b[1;31mOSError\u001b[0m                                   Traceback (most recent call last)",
      "\u001b[1;32m~\\AppData\\Local\\Temp/ipykernel_1832/1123534940.py\u001b[0m in \u001b[0;36m<module>\u001b[1;34m\u001b[0m\n\u001b[0;32m      1\u001b[0m \u001b[1;31m# Define tokenizer\u001b[0m\u001b[1;33m\u001b[0m\u001b[1;33m\u001b[0m\u001b[1;33m\u001b[0m\u001b[0m\n\u001b[1;32m----> 2\u001b[1;33m \u001b[0mTOKENIZER\u001b[0m \u001b[1;33m=\u001b[0m \u001b[0mBertTokenizer\u001b[0m\u001b[1;33m.\u001b[0m\u001b[0mfrom_pretrained\u001b[0m\u001b[1;33m(\u001b[0m\u001b[1;34m'bert-base-cased'\u001b[0m\u001b[1;33m)\u001b[0m\u001b[1;33m\u001b[0m\u001b[1;33m\u001b[0m\u001b[0m\n\u001b[0m\u001b[0;32m      3\u001b[0m \u001b[1;31m# TOKENIZER = WhitespaceTokenizer()\u001b[0m\u001b[1;33m\u001b[0m\u001b[1;33m\u001b[0m\u001b[1;33m\u001b[0m\u001b[0m\n",
      "\u001b[1;32m~\\AppData\\Roaming\\Python\\Python38\\site-packages\\transformers\\tokenization_utils_base.py\u001b[0m in \u001b[0;36mfrom_pretrained\u001b[1;34m(cls, pretrained_model_name_or_path, *init_inputs, **kwargs)\u001b[0m\n\u001b[0;32m   1731\u001b[0m                 \u001b[0mmsg\u001b[0m \u001b[1;33m+=\u001b[0m \u001b[1;34mf\"- or '{revision}' is a valid git identifier (branch name, a tag name, or a commit id) that exists for this model name as listed on its model page on 'https://huggingface.co/models'\\n\\n\"\u001b[0m\u001b[1;33m\u001b[0m\u001b[1;33m\u001b[0m\u001b[0m\n\u001b[0;32m   1732\u001b[0m \u001b[1;33m\u001b[0m\u001b[0m\n\u001b[1;32m-> 1733\u001b[1;33m             \u001b[1;32mraise\u001b[0m \u001b[0mEnvironmentError\u001b[0m\u001b[1;33m(\u001b[0m\u001b[0mmsg\u001b[0m\u001b[1;33m)\u001b[0m\u001b[1;33m\u001b[0m\u001b[1;33m\u001b[0m\u001b[0m\n\u001b[0m\u001b[0;32m   1734\u001b[0m \u001b[1;33m\u001b[0m\u001b[0m\n\u001b[0;32m   1735\u001b[0m         \u001b[1;32mfor\u001b[0m \u001b[0mfile_id\u001b[0m\u001b[1;33m,\u001b[0m \u001b[0mfile_path\u001b[0m \u001b[1;32min\u001b[0m \u001b[0mvocab_files\u001b[0m\u001b[1;33m.\u001b[0m\u001b[0mitems\u001b[0m\u001b[1;33m(\u001b[0m\u001b[1;33m)\u001b[0m\u001b[1;33m:\u001b[0m\u001b[1;33m\u001b[0m\u001b[1;33m\u001b[0m\u001b[0m\n",
      "\u001b[1;31mOSError\u001b[0m: Can't load tokenizer for 'bert-base-cased'. Make sure that:\n\n- 'bert-base-cased' is a correct model identifier listed on 'https://huggingface.co/models'\n  (make sure 'bert-base-cased' is not a path to a local directory with something else, in that case)\n\n- or 'bert-base-cased' is the correct path to a directory containing relevant tokenizer files\n\n"
     ]
    }
   ],
   "source": [
    "# Define tokenizer\n",
    "TOKENIZER = BertTokenizer.from_pretrained('bert-base-cased')\n",
    "# TOKENIZER = WhitespaceTokenizer()"
   ]
  },
  {
   "cell_type": "code",
   "execution_count": null,
   "id": "23fd5538",
   "metadata": {
    "id": "23fd5538"
   },
   "outputs": [],
   "source": [
    "# Download data\n",
    "\n",
    "##fn has unique paragraphs per row 409\n",
    "url='https://raw.githubusercontent.com/MikeDoes/ETH_NLP_Project/main/fin_num_merged.json'\n",
    "response = urllib.request.urlopen(url)\n",
    "data_fn=json.loads(response.read())\n",
    "\n",
    "##fn3 has duplicated paragraphs per number found 1100 original\n",
    "url='https://raw.githubusercontent.com/MikeDoes/ETH_NLP_Project/main/FinNum-3_ConCall_dev.json'\n",
    "response = urllib.request.urlopen(url)\n",
    "data_fn3=json.loads(response.read())"
   ]
  },
  {
   "cell_type": "code",
   "execution_count": 25,
   "id": "80e423a3",
   "metadata": {
    "scrolled": true
   },
   "outputs": [],
   "source": [
    "# data_fn3"
   ]
  },
  {
   "cell_type": "code",
   "execution_count": 35,
   "id": "061a89e4",
   "metadata": {
    "id": "061a89e4"
   },
   "outputs": [],
   "source": [
    "#PRE PROCESS\n",
    "    \n",
    "def convertdata_pd(data, tokenize_labels=False, tokenizer=TOKENIZER,return_tensors=RETURN_TENSORS):\n",
    "    \"\"\"\n",
    "    Converts the json to a pd. \n",
    "    It can receive the data finNum (dics and shape 409)\n",
    "    optionally it can be perform the tokenization on the labels already (only for data_fn and word tokenization)\n",
    "    \"\"\"\n",
    "    data_rows=[]\n",
    "    labels =[]\n",
    "    #data_fn\n",
    "    if data == data_fn:\n",
    "        for i in range(len(data)):\n",
    "            temp = []\n",
    "            paragraph = data[i][\"paragraph\"]\n",
    "            numbers = data[i][\"entities\"]\n",
    "            for j in range(len(numbers)):\n",
    "                num = numbers[j][\"target_num\"]\n",
    "                category = numbers[j][\"category\"]\n",
    "                offset_start = numbers[j][\"offset_start\"]\n",
    "                if tokenize_labels==False:\n",
    "                    temp.append({\n",
    "                        \"number\":num,\n",
    "                        \"label\":category,\n",
    "                        \"pos\":offset_start})\n",
    "                    labels.append({\"labels\":category})\n",
    "                elif return_tensors == False:\n",
    "                    category_token = tokenizer(list(category.split(\" \"))) #tokenize the category \n",
    "                    temp.append({\n",
    "                        \"number\":num,\n",
    "                        \"label\":category_token[\"input_ids\"][0][1],\n",
    "                        \"pos\":offset_start})\n",
    "                    labels.append({\"labels\":category_token[\"input_ids\"][0][1]})\n",
    "                else:\n",
    "                    category_token = tokenizer(list(category.split(\" \")),return_tensors='tf') #tokenize the category\n",
    "                    temp.append({\n",
    "                        \"number\":num,\n",
    "                        \"label\":category_token[\"input_ids\"][0][1],\n",
    "                        \"pos\":offset_start})\n",
    "                    labels.append({\"labels\":category_token[\"input_ids\"][0][1]})\n",
    "                     # add the category. Warning: category can only be one word\n",
    "            data_rows.append({\n",
    "                \"paragraph\":paragraph,\n",
    "                \"labels\":temp\n",
    "            })\n",
    "    #data_fn3\n",
    "    elif data == data_fn3:\n",
    "        for i in range(len(data)):\n",
    "            paragraph=data[i][\"paragraph\"]\n",
    "            target=data[i][\"target_num\"]\n",
    "            category=data[i][\"category\"]\n",
    "            offset_start=data[i][\"offset_start\"]\n",
    "            offset_end=data[i][\"offset_end\"]\n",
    "            data_rows.append({\n",
    "                \"paragraph\":paragraph,\n",
    "                \"target\":target,\n",
    "                \"category\":category,\n",
    "                \"offset_start\":offset_start,\n",
    "                \"offset_end\":offset_end,\n",
    "                \"model_prediction_category\":'',\n",
    "                \"model_prediction_entity\":''\n",
    "            })\n",
    "    x = pd.DataFrame(data_rows).iloc[:,0]\n",
    "    y = pd.DataFrame(data_rows).iloc[:,1]\n",
    "    \n",
    "    labels.append({\"labels\":0}) #decided for 0 as everything is already a token, therefore assumed NULL==0\n",
    "    labels_uniq =[]\n",
    "    if tokenize_labels == False:\n",
    "        labels_uniq=pd.DataFrame(labels).labels.unique()\n",
    "#todo check before 0 is a token for padding, so probably we can t add as 0 \n",
    "    \n",
    "    return pd.DataFrame(data_rows), x, y, labels_uniq"
   ]
  },
  {
   "cell_type": "code",
   "execution_count": 82,
   "id": "e0ef15b2",
   "metadata": {
    "id": "e0ef15b2"
   },
   "outputs": [],
   "source": [
    "# run for data_fn\n",
    "# data_rows, x ,y,labels=convertdata_pd(data_fn)\n",
    "# data_rows, x ,y=convertdata_pd(data_fn,tokenize_labels=True)\n",
    "\n",
    "##Example\n",
    "data_rows, x ,y,cat =convertdata_pd(data_fn,tokenize_labels=False,return_tensors='tf')\n",
    "# data_rows, x ,y,cat =convertdata_pd(data_fn,tokenize_labels=True,return_tensors='tf')\n",
    "\n",
    "# cat has 10 categories"
   ]
  },
  {
   "cell_type": "code",
   "execution_count": 22,
   "id": "cb67693b",
   "metadata": {
    "id": "cb67693b"
   },
   "outputs": [],
   "source": [
    "# Prep for token\n",
    "def clean(par):\n",
    "    \"\"\"\n",
    "    receives a paragraph and cleans its text\n",
    "    \"\"\"\n",
    "    par\n",
    "    par = par.lower() #remove capital letters\n",
    "    par = par.replace(\"[^a-zA-Z]\", \" \") #remove non english characters\n",
    "    # remove pontuation, as the punctuation i also converted into tokens\n",
    "    for char in par:\n",
    "        if char in string.punctuation:\n",
    "            par = par.replace(char,\"\")\n",
    "    return par\n",
    "            \n",
    "#todo implement for non english https://pypi.org/project/langdetect/\n",
    "#todo keep %"
   ]
  },
  {
   "cell_type": "code",
   "execution_count": null,
   "id": "215c4c76",
   "metadata": {},
   "outputs": [],
   "source": [
    "##Example\n",
    "parpar = clean (data_rows.iloc[0,0])\n",
    "parpar"
   ]
  },
  {
   "cell_type": "code",
   "execution_count": 56,
   "id": "72f41366",
   "metadata": {
    "id": "72f41366"
   },
   "outputs": [],
   "source": [
    "# Construct target vector with tokenized target\n",
    "def constructor(par,target,tokenizer=TOKENIZER, return_tensors=RETURN_TENSORS):\n",
    "    \"\"\"\n",
    "    Args\n",
    "    par: paragraph (not clean so we know the position) \n",
    "    targets: format [{'number': '80', 'label': 1168, 'pos': 373}]\n",
    "    where label is already tokenized\n",
    "    and returns a vector with 0s and the label in the word positioning\n",
    "    \"\"\"\n",
    "    par_clean=clean(par)\n",
    "    par_token=tokenizer(par_clean)[\"input_ids\"]\n",
    "    #initiates the vector with the same number of zeros from the clean paragraph\n",
    "    labv = np.zeros(len(par_token)) \n",
    "    nubv = np.zeros(len(par_token))\n",
    "\n",
    "    for i in range(len(target)):\n",
    "        pos=target[i][\"pos\"] #get the position of the number\n",
    "        spl = par[0:pos] #split till position of wanted number\n",
    "        spl_clean = clean(spl) #now we clean the paragraph\n",
    "        if return_tensors == False:\n",
    "            spl_token = tokenizer(spl_clean)[\"input_ids\"]\n",
    "            labv[len(spl_token)-1] = target[i][\"label\"]  #replace the position of the number by the category. -1 to remove token=102 which is the end\n",
    "            nubv[len(spl_token)-1] = target[i][\"number\"]\n",
    "        else:\n",
    "            spl_token = tokenizer(spl_clean, return_tensors='tf')[\"input_ids\"]\n",
    "            labv[len(spl_token[0])-1] = target[i][\"label\"]  #replace the position of the number by the category. -1 to remove token=102 which is the end\n",
    "            nubv[len(spl_token[0])-1] = target[i][\"number\"]\n",
    "    labv.tolist()\n",
    "    if return_tensors == 'tf':\n",
    "        par_token=tokenizer(par_clean,return_tensors='tf') #i cant just convert to tf #todo check if need to add\n",
    "        #todo: check if we need to add max_length =512, truncation=True, padding ='max_length')above and how to handle\n",
    "        labv=tf.convert_to_tensor(labv,np.float32)\n",
    "        \n",
    "#     print(spl_token[0])        \n",
    "    return par_token, labv, nubv #todo"
   ]
  },
  {
   "cell_type": "code",
   "execution_count": 175,
   "id": "d82f99d9",
   "metadata": {},
   "outputs": [
    {
     "name": "stdout",
     "output_type": "stream",
     "text": [
      "[0. 0. 0. 0. 0. 0. 0. 0. 0. 0. 0. 0. 0. 0. 0. 0. 0. 0. 0. 0. 0. 0. 0. 0.\n",
      " 0. 0. 0. 0. 0. 0. 0. 0. 0. 0. 0. 0. 0. 0. 0. 0. 0. 0. 0. 0. 0. 0. 0. 0.\n",
      " 0. 0. 0. 0. 0. 0. 0. 0. 0. 0. 0. 0. 0. 0. 0. 0. 0. 0. 0. 0. 0. 0. 0. 0.\n",
      " 0. 0. 0. 0. 0. 0. 0. 0. 0. 0. 0. 0. 0.]\n"
     ]
    },
    {
     "ename": "ValueError",
     "evalue": "could not convert string to float: 'date'",
     "output_type": "error",
     "traceback": [
      "\u001b[1;31m---------------------------------------------------------------------------\u001b[0m",
      "\u001b[1;31mValueError\u001b[0m                                Traceback (most recent call last)",
      "\u001b[1;32m~\\AppData\\Local\\Temp/ipykernel_15816/2052498532.py\u001b[0m in \u001b[0;36m<module>\u001b[1;34m\u001b[0m\n\u001b[1;32m----> 1\u001b[1;33m \u001b[0mpar\u001b[0m\u001b[1;33m,\u001b[0m\u001b[0my_v\u001b[0m\u001b[1;33m,\u001b[0m\u001b[0mnub\u001b[0m\u001b[1;33m=\u001b[0m\u001b[0mconstructor\u001b[0m\u001b[1;33m(\u001b[0m\u001b[0mx_3\u001b[0m\u001b[1;33m,\u001b[0m\u001b[0my_3\u001b[0m\u001b[1;33m,\u001b[0m \u001b[0mreturn_tensors\u001b[0m\u001b[1;33m=\u001b[0m\u001b[1;34m'tf'\u001b[0m\u001b[1;33m)\u001b[0m\u001b[1;33m\u001b[0m\u001b[1;33m\u001b[0m\u001b[0m\n\u001b[0m",
      "\u001b[1;32m~\\AppData\\Local\\Temp/ipykernel_15816/1733861508.py\u001b[0m in \u001b[0;36mconstructor\u001b[1;34m(par, target, tokenizer, return_tensors)\u001b[0m\n\u001b[0;32m     25\u001b[0m             \u001b[0mspl_token\u001b[0m \u001b[1;33m=\u001b[0m \u001b[0mtokenizer\u001b[0m\u001b[1;33m(\u001b[0m\u001b[0mspl_clean\u001b[0m\u001b[1;33m,\u001b[0m \u001b[0mreturn_tensors\u001b[0m\u001b[1;33m=\u001b[0m\u001b[1;34m'tf'\u001b[0m\u001b[1;33m)\u001b[0m\u001b[1;33m[\u001b[0m\u001b[1;34m\"input_ids\"\u001b[0m\u001b[1;33m]\u001b[0m\u001b[1;33m\u001b[0m\u001b[1;33m\u001b[0m\u001b[0m\n\u001b[0;32m     26\u001b[0m             \u001b[0mprint\u001b[0m\u001b[1;33m(\u001b[0m\u001b[0mlabv\u001b[0m\u001b[1;33m)\u001b[0m\u001b[1;33m\u001b[0m\u001b[1;33m\u001b[0m\u001b[0m\n\u001b[1;32m---> 27\u001b[1;33m             \u001b[0mlabv\u001b[0m\u001b[1;33m[\u001b[0m\u001b[0mlen\u001b[0m\u001b[1;33m(\u001b[0m\u001b[0mspl_token\u001b[0m\u001b[1;33m[\u001b[0m\u001b[1;36m0\u001b[0m\u001b[1;33m]\u001b[0m\u001b[1;33m)\u001b[0m\u001b[1;33m-\u001b[0m\u001b[1;36m1\u001b[0m\u001b[1;33m]\u001b[0m \u001b[1;33m=\u001b[0m \u001b[0mtarget\u001b[0m\u001b[1;33m[\u001b[0m\u001b[0mi\u001b[0m\u001b[1;33m]\u001b[0m\u001b[1;33m[\u001b[0m\u001b[1;34m\"label\"\u001b[0m\u001b[1;33m]\u001b[0m  \u001b[1;31m#replace the position of the number by the category. -1 to remove token=102 which is the end\u001b[0m\u001b[1;33m\u001b[0m\u001b[1;33m\u001b[0m\u001b[0m\n\u001b[0m\u001b[0;32m     28\u001b[0m             \u001b[0mnubv\u001b[0m\u001b[1;33m[\u001b[0m\u001b[0mlen\u001b[0m\u001b[1;33m(\u001b[0m\u001b[0mspl_token\u001b[0m\u001b[1;33m[\u001b[0m\u001b[1;36m0\u001b[0m\u001b[1;33m]\u001b[0m\u001b[1;33m)\u001b[0m\u001b[1;33m-\u001b[0m\u001b[1;36m1\u001b[0m\u001b[1;33m]\u001b[0m \u001b[1;33m=\u001b[0m \u001b[0mtarget\u001b[0m\u001b[1;33m[\u001b[0m\u001b[0mi\u001b[0m\u001b[1;33m]\u001b[0m\u001b[1;33m[\u001b[0m\u001b[1;34m\"number\"\u001b[0m\u001b[1;33m]\u001b[0m\u001b[1;33m\u001b[0m\u001b[1;33m\u001b[0m\u001b[0m\n\u001b[0;32m     29\u001b[0m     \u001b[0mlabv\u001b[0m\u001b[1;33m.\u001b[0m\u001b[0mtolist\u001b[0m\u001b[1;33m(\u001b[0m\u001b[1;33m)\u001b[0m\u001b[1;33m\u001b[0m\u001b[1;33m\u001b[0m\u001b[0m\n",
      "\u001b[1;31mValueError\u001b[0m: could not convert string to float: 'date'"
     ]
    }
   ],
   "source": [
    "par,y_v,nub=constructor(x_3,y_3, return_tensors='tf')"
   ]
  },
  {
   "cell_type": "code",
   "execution_count": null,
   "id": "4c38d9cd",
   "metadata": {},
   "outputs": [],
   "source": []
  },
  {
   "cell_type": "code",
   "execution_count": 136,
   "id": "cf1b4c35",
   "metadata": {},
   "outputs": [],
   "source": [
    "# Construct target vector with tokenized target\n",
    "def constructor2(par,target,categories,tokenizer=TOKENIZER, return_tensors=RETURN_TENSORS):\n",
    "    \"\"\"\n",
    "    Args\n",
    "    par: paragraph (not clean so we know the position from the number in the original paragraph) \n",
    "    targets: format [{'number': '80', 'label': 1168, 'pos': 373}]\n",
    "    where label is already tokenized\n",
    "    and returns a vector with 0s and the label in the word positioning\n",
    "    \"\"\"\n",
    "    \n",
    "    #clean the paragraph\n",
    "    par_clean=clean(par)\n",
    "    par_token=tokenizer(par_clean)[\"input_ids\"]\n",
    "    \n",
    "    #initiates the vector with the same number of zeros from the clean paragraph\n",
    "    y_vector = np.zeros(len(par_token)) \n",
    "    y_token_vector = np.zeros(len(par_token))\n",
    "\n",
    "    #if the y (target) has still the original categories and not tokenized\n",
    "    if type(target[0]['label'])==str:\n",
    "        for i in range(len(target)):\n",
    "            pos=target[i][\"pos\"] #get the position of the number\n",
    "            spl = par[0:pos] #split till position of wanted number from the original paragraph\n",
    "            spl_clean = clean(spl) #now we clean the paragraph until that position\n",
    "            \n",
    "            if return_tensors == False:\n",
    "                spl_token = tokenizer(spl_clean)[\"input_ids\"]\n",
    "                size = len(spl_token)-1 #-1 to remove token=102 which is the end\n",
    "            else:\n",
    "                spl_token = tokenizer(spl_clean, return_tensors='tf')[\"input_ids\"]\n",
    "                size = len(spl_token[0])-1 #-1 to remove token=102 which is the end\n",
    "            \n",
    "            y_vector[size] = np.where(categories==target[i][\"label\"])[0][0]\n",
    "            #replace the position of the category by the position of the category in the list. \n",
    "            y_token_vector[size] = target[i][\"number\"]\n",
    "     \n",
    "    else:\n",
    "        for i in range(len(target)):\n",
    "            pos=target[i][\"pos\"] #get the position of the number\n",
    "            spl = par[0:pos] #split till position of wanted number\n",
    "            spl_clean = clean(spl) #now we clean the paragraph\n",
    "            if return_tensors == False:\n",
    "                spl_token = tokenizer(spl_clean)[\"input_ids\"]\n",
    "                y_vector[spl_token] = target[i][\"label\"]  #replace the position of the number by the category. -1 to remove token=102 which is the end\n",
    "                y_token_vector[len(spl_token)-1] = target[i][\"number\"]\n",
    "            else:\n",
    "                spl_token = tokenizer(spl_clean, return_tensors='tf')[\"input_ids\"]\n",
    "                y_vector[len(spl_token[0])-1] = target[i][\"label\"]  #replace the position of the number by the category. -1 to remove token=102 which is the end\n",
    "                y_token_vector[len(spl_token[0])-1] = target[i][\"number\"]\n",
    "    \n",
    "    \n",
    "    y_vector.tolist()\n",
    "    if return_tensors == 'tf':\n",
    "        par_token=tokenizer(par_clean,return_tensors='tf') #i cant just convert to tf #todo check if need to add\n",
    "        #todo: check if we need to add max_length =512, truncation=True, padding ='max_length')above and how to handle\n",
    "        y_vector=tf.convert_to_tensor(y_vector,np.float32)\n",
    "        \n",
    "#     print(spl_token[0])        \n",
    "    return par_token, y_vector, y_token_vector #todo"
   ]
  },
  {
   "cell_type": "code",
   "execution_count": 137,
   "id": "bfcc2bc9",
   "metadata": {},
   "outputs": [],
   "source": [
    "#Example\n",
    "x_3=x[3]\n",
    "y_3=y[3]\n",
    "par,y_v,y_token=constructor2(x_3,y_3,cat, return_tensors='tf')"
   ]
  },
  {
   "cell_type": "code",
   "execution_count": 26,
   "id": "259a6c81",
   "metadata": {},
   "outputs": [],
   "source": [
    "data_rows.iloc[3,:] # for non tokenized data\n",
    "# data_rows.iloc[0,1][0][\"label\"].numpy() # for tokenized data\n",
    "\n",
    "x_3=x[3]\n",
    "y_3=y[3]\n"
   ]
  },
  {
   "cell_type": "code",
   "execution_count": null,
   "id": "cf68d740",
   "metadata": {},
   "outputs": [],
   "source": []
  },
  {
   "cell_type": "code",
   "execution_count": 212,
   "id": "417cc6c2",
   "metadata": {},
   "outputs": [
    {
     "name": "stderr",
     "output_type": "stream",
     "text": [
      "file bert-base-cased\\config.json not found\n"
     ]
    },
    {
     "ename": "OSError",
     "evalue": "Can't load config for 'bert-base-cased'. Make sure that:\n\n- 'bert-base-cased' is a correct model identifier listed on 'https://huggingface.co/models'\n  (make sure 'bert-base-cased' is not a path to a local directory with something else, in that case)\n\n- or 'bert-base-cased' is the correct path to a directory containing a config.json file\n\n",
     "output_type": "error",
     "traceback": [
      "\u001b[1;31m---------------------------------------------------------------------------\u001b[0m",
      "\u001b[1;31mOSError\u001b[0m                                   Traceback (most recent call last)",
      "\u001b[1;32m~\\AppData\\Roaming\\Python\\Python38\\site-packages\\transformers\\configuration_utils.py\u001b[0m in \u001b[0;36mget_config_dict\u001b[1;34m(cls, pretrained_model_name_or_path, **kwargs)\u001b[0m\n\u001b[0;32m    565\u001b[0m             \u001b[1;31m# Load from URL or cache if already cached\u001b[0m\u001b[1;33m\u001b[0m\u001b[1;33m\u001b[0m\u001b[1;33m\u001b[0m\u001b[0m\n\u001b[1;32m--> 566\u001b[1;33m             resolved_config_file = cached_path(\n\u001b[0m\u001b[0;32m    567\u001b[0m                 \u001b[0mconfig_file\u001b[0m\u001b[1;33m,\u001b[0m\u001b[1;33m\u001b[0m\u001b[1;33m\u001b[0m\u001b[0m\n",
      "\u001b[1;32m~\\AppData\\Roaming\\Python\\Python38\\site-packages\\transformers\\file_utils.py\u001b[0m in \u001b[0;36mcached_path\u001b[1;34m(url_or_filename, cache_dir, force_download, proxies, resume_download, user_agent, extract_compressed_file, force_extract, use_auth_token, local_files_only)\u001b[0m\n\u001b[0;32m   1639\u001b[0m         \u001b[1;31m# File, but it doesn't exist.\u001b[0m\u001b[1;33m\u001b[0m\u001b[1;33m\u001b[0m\u001b[1;33m\u001b[0m\u001b[0m\n\u001b[1;32m-> 1640\u001b[1;33m         \u001b[1;32mraise\u001b[0m \u001b[0mEnvironmentError\u001b[0m\u001b[1;33m(\u001b[0m\u001b[1;34mf\"file {url_or_filename} not found\"\u001b[0m\u001b[1;33m)\u001b[0m\u001b[1;33m\u001b[0m\u001b[1;33m\u001b[0m\u001b[0m\n\u001b[0m\u001b[0;32m   1641\u001b[0m     \u001b[1;32melse\u001b[0m\u001b[1;33m:\u001b[0m\u001b[1;33m\u001b[0m\u001b[1;33m\u001b[0m\u001b[0m\n",
      "\u001b[1;31mOSError\u001b[0m: file bert-base-cased\\config.json not found",
      "\nDuring handling of the above exception, another exception occurred:\n",
      "\u001b[1;31mOSError\u001b[0m                                   Traceback (most recent call last)",
      "\u001b[1;32m~\\AppData\\Local\\Temp/ipykernel_15816/2809351812.py\u001b[0m in \u001b[0;36m<module>\u001b[1;34m\u001b[0m\n\u001b[0;32m      1\u001b[0m \u001b[1;31m##Model\u001b[0m\u001b[1;33m\u001b[0m\u001b[1;33m\u001b[0m\u001b[1;33m\u001b[0m\u001b[0m\n\u001b[1;32m----> 2\u001b[1;33m \u001b[0mmodel\u001b[0m \u001b[1;33m=\u001b[0m \u001b[0mTFBertForTokenClassification\u001b[0m\u001b[1;33m.\u001b[0m\u001b[0mfrom_pretrained\u001b[0m\u001b[1;33m(\u001b[0m\u001b[1;34m'bert-base-cased'\u001b[0m\u001b[1;33m,\u001b[0m\u001b[0moutput_attentions\u001b[0m\u001b[1;33m=\u001b[0m\u001b[1;32mFalse\u001b[0m\u001b[1;33m,\u001b[0m \u001b[0mnum_labels\u001b[0m\u001b[1;33m=\u001b[0m\u001b[1;36m10\u001b[0m\u001b[1;33m)\u001b[0m\u001b[1;33m\u001b[0m\u001b[1;33m\u001b[0m\u001b[0m\n\u001b[0m",
      "\u001b[1;32m~\\AppData\\Roaming\\Python\\Python38\\site-packages\\transformers\\modeling_tf_utils.py\u001b[0m in \u001b[0;36mfrom_pretrained\u001b[1;34m(cls, pretrained_model_name_or_path, *model_args, **kwargs)\u001b[0m\n\u001b[0;32m   1452\u001b[0m         \u001b[1;32mif\u001b[0m \u001b[1;32mnot\u001b[0m \u001b[0misinstance\u001b[0m\u001b[1;33m(\u001b[0m\u001b[0mconfig\u001b[0m\u001b[1;33m,\u001b[0m \u001b[0mPretrainedConfig\u001b[0m\u001b[1;33m)\u001b[0m\u001b[1;33m:\u001b[0m\u001b[1;33m\u001b[0m\u001b[1;33m\u001b[0m\u001b[0m\n\u001b[0;32m   1453\u001b[0m             \u001b[0mconfig_path\u001b[0m \u001b[1;33m=\u001b[0m \u001b[0mconfig\u001b[0m \u001b[1;32mif\u001b[0m \u001b[0mconfig\u001b[0m \u001b[1;32mis\u001b[0m \u001b[1;32mnot\u001b[0m \u001b[1;32mNone\u001b[0m \u001b[1;32melse\u001b[0m \u001b[0mpretrained_model_name_or_path\u001b[0m\u001b[1;33m\u001b[0m\u001b[1;33m\u001b[0m\u001b[0m\n\u001b[1;32m-> 1454\u001b[1;33m             config, model_kwargs = cls.config_class.from_pretrained(\n\u001b[0m\u001b[0;32m   1455\u001b[0m                 \u001b[0mconfig_path\u001b[0m\u001b[1;33m,\u001b[0m\u001b[1;33m\u001b[0m\u001b[1;33m\u001b[0m\u001b[0m\n\u001b[0;32m   1456\u001b[0m                 \u001b[0mcache_dir\u001b[0m\u001b[1;33m=\u001b[0m\u001b[0mcache_dir\u001b[0m\u001b[1;33m,\u001b[0m\u001b[1;33m\u001b[0m\u001b[1;33m\u001b[0m\u001b[0m\n",
      "\u001b[1;32m~\\AppData\\Roaming\\Python\\Python38\\site-packages\\transformers\\configuration_utils.py\u001b[0m in \u001b[0;36mfrom_pretrained\u001b[1;34m(cls, pretrained_model_name_or_path, **kwargs)\u001b[0m\n\u001b[0;32m    499\u001b[0m \u001b[1;33m\u001b[0m\u001b[0m\n\u001b[0;32m    500\u001b[0m         \"\"\"\n\u001b[1;32m--> 501\u001b[1;33m         \u001b[0mconfig_dict\u001b[0m\u001b[1;33m,\u001b[0m \u001b[0mkwargs\u001b[0m \u001b[1;33m=\u001b[0m \u001b[0mcls\u001b[0m\u001b[1;33m.\u001b[0m\u001b[0mget_config_dict\u001b[0m\u001b[1;33m(\u001b[0m\u001b[0mpretrained_model_name_or_path\u001b[0m\u001b[1;33m,\u001b[0m \u001b[1;33m**\u001b[0m\u001b[0mkwargs\u001b[0m\u001b[1;33m)\u001b[0m\u001b[1;33m\u001b[0m\u001b[1;33m\u001b[0m\u001b[0m\n\u001b[0m\u001b[0;32m    502\u001b[0m         \u001b[1;32mif\u001b[0m \u001b[1;34m\"model_type\"\u001b[0m \u001b[1;32min\u001b[0m \u001b[0mconfig_dict\u001b[0m \u001b[1;32mand\u001b[0m \u001b[0mhasattr\u001b[0m\u001b[1;33m(\u001b[0m\u001b[0mcls\u001b[0m\u001b[1;33m,\u001b[0m \u001b[1;34m\"model_type\"\u001b[0m\u001b[1;33m)\u001b[0m \u001b[1;32mand\u001b[0m \u001b[0mconfig_dict\u001b[0m\u001b[1;33m[\u001b[0m\u001b[1;34m\"model_type\"\u001b[0m\u001b[1;33m]\u001b[0m \u001b[1;33m!=\u001b[0m \u001b[0mcls\u001b[0m\u001b[1;33m.\u001b[0m\u001b[0mmodel_type\u001b[0m\u001b[1;33m:\u001b[0m\u001b[1;33m\u001b[0m\u001b[1;33m\u001b[0m\u001b[0m\n\u001b[0;32m    503\u001b[0m             logger.warn(\n",
      "\u001b[1;32m~\\AppData\\Roaming\\Python\\Python38\\site-packages\\transformers\\configuration_utils.py\u001b[0m in \u001b[0;36mget_config_dict\u001b[1;34m(cls, pretrained_model_name_or_path, **kwargs)\u001b[0m\n\u001b[0;32m    589\u001b[0m                 \u001b[0mmsg\u001b[0m \u001b[1;33m+=\u001b[0m \u001b[1;34mf\"- or '{revision}' is a valid git identifier (branch name, a tag name, or a commit id) that exists for this model name as listed on its model page on 'https://huggingface.co/models'\\n\\n\"\u001b[0m\u001b[1;33m\u001b[0m\u001b[1;33m\u001b[0m\u001b[0m\n\u001b[0;32m    590\u001b[0m \u001b[1;33m\u001b[0m\u001b[0m\n\u001b[1;32m--> 591\u001b[1;33m             \u001b[1;32mraise\u001b[0m \u001b[0mEnvironmentError\u001b[0m\u001b[1;33m(\u001b[0m\u001b[0mmsg\u001b[0m\u001b[1;33m)\u001b[0m\u001b[1;33m\u001b[0m\u001b[1;33m\u001b[0m\u001b[0m\n\u001b[0m\u001b[0;32m    592\u001b[0m \u001b[1;33m\u001b[0m\u001b[0m\n\u001b[0;32m    593\u001b[0m         \u001b[1;32mexcept\u001b[0m \u001b[1;33m(\u001b[0m\u001b[0mjson\u001b[0m\u001b[1;33m.\u001b[0m\u001b[0mJSONDecodeError\u001b[0m\u001b[1;33m,\u001b[0m \u001b[0mUnicodeDecodeError\u001b[0m\u001b[1;33m)\u001b[0m\u001b[1;33m:\u001b[0m\u001b[1;33m\u001b[0m\u001b[1;33m\u001b[0m\u001b[0m\n",
      "\u001b[1;31mOSError\u001b[0m: Can't load config for 'bert-base-cased'. Make sure that:\n\n- 'bert-base-cased' is a correct model identifier listed on 'https://huggingface.co/models'\n  (make sure 'bert-base-cased' is not a path to a local directory with something else, in that case)\n\n- or 'bert-base-cased' is the correct path to a directory containing a config.json file\n\n"
     ]
    }
   ],
   "source": [
    "##Model\n",
    "model = TFBertForTokenClassification.from_pretrained('bert-base-cased',output_attentions=False, num_labels=10)"
   ]
  },
  {
   "cell_type": "code",
   "execution_count": null,
   "id": "16dd7afb",
   "metadata": {},
   "outputs": [],
   "source": [
    "model.classifier = nn.Linear(model.config['hidden_size'], adapt_args.num_classes)"
   ]
  },
  {
   "cell_type": "code",
   "execution_count": null,
   "id": "a7c28baf",
   "metadata": {},
   "outputs": [],
   "source": [
    "model.compile(optimizer=\"adam\", loss = tf.keras.losses.SparseCategoricalCrossentropy(from_logits=True))"
   ]
  },
  {
   "cell_type": "code",
   "execution_count": 185,
   "id": "f6eb8451",
   "metadata": {},
   "outputs": [
    {
     "ename": "TypeError",
     "evalue": "'BertConfig' object is not subscriptable",
     "output_type": "error",
     "traceback": [
      "\u001b[1;31m---------------------------------------------------------------------------\u001b[0m",
      "\u001b[1;31mTypeError\u001b[0m                                 Traceback (most recent call last)",
      "\u001b[1;32m~\\AppData\\Local\\Temp/ipykernel_15816/3083236279.py\u001b[0m in \u001b[0;36m<module>\u001b[1;34m\u001b[0m\n\u001b[0;32m      1\u001b[0m \u001b[1;31m#model.classifier = nn.Linear(85,85)\u001b[0m\u001b[1;33m\u001b[0m\u001b[1;33m\u001b[0m\u001b[1;33m\u001b[0m\u001b[0m\n\u001b[1;32m----> 2\u001b[1;33m \u001b[0mmodel\u001b[0m\u001b[1;33m.\u001b[0m\u001b[0mclassifier\u001b[0m \u001b[1;33m=\u001b[0m \u001b[0mnn\u001b[0m\u001b[1;33m.\u001b[0m\u001b[0mLinear\u001b[0m\u001b[1;33m(\u001b[0m\u001b[0mmodel\u001b[0m\u001b[1;33m.\u001b[0m\u001b[0mconfig\u001b[0m\u001b[1;33m[\u001b[0m\u001b[1;34m'hidden_size'\u001b[0m\u001b[1;33m]\u001b[0m\u001b[1;33m,\u001b[0m \u001b[0madapt_args\u001b[0m\u001b[1;33m.\u001b[0m\u001b[0mnum_classes\u001b[0m\u001b[1;33m)\u001b[0m\u001b[1;33m\u001b[0m\u001b[1;33m\u001b[0m\u001b[0m\n\u001b[0m",
      "\u001b[1;31mTypeError\u001b[0m: 'BertConfig' object is not subscriptable"
     ]
    }
   ],
   "source": [
    "#model.classifier = nn.Linear(85,85)\n",
    "\n"
   ]
  },
  {
   "cell_type": "code",
   "execution_count": 202,
   "id": "484d417e",
   "metadata": {},
   "outputs": [],
   "source": [
    "configg = model.config"
   ]
  },
  {
   "cell_type": "code",
   "execution_count": 210,
   "id": "49af1e18",
   "metadata": {},
   "outputs": [
    {
     "ename": "NameError",
     "evalue": "name 'settings' is not defined",
     "output_type": "error",
     "traceback": [
      "\u001b[1;31m---------------------------------------------------------------------------\u001b[0m",
      "\u001b[1;31mNameError\u001b[0m                                 Traceback (most recent call last)",
      "\u001b[1;32m~\\AppData\\Local\\Temp/ipykernel_15816/2382247832.py\u001b[0m in \u001b[0;36m<module>\u001b[1;34m\u001b[0m\n\u001b[1;32m----> 1\u001b[1;33m \u001b[0mconfig\u001b[0m \u001b[1;33m=\u001b[0m \u001b[0mBertConfig\u001b[0m\u001b[1;33m.\u001b[0m\u001b[0mfrom_pretrained\u001b[0m\u001b[1;33m(\u001b[0m\u001b[0msettings\u001b[0m\u001b[1;33m.\u001b[0m\u001b[0mBERT_NAME\u001b[0m\u001b[1;33m)\u001b[0m\u001b[1;33m\u001b[0m\u001b[1;33m\u001b[0m\u001b[0m\n\u001b[0m",
      "\u001b[1;31mNameError\u001b[0m: name 'settings' is not defined"
     ]
    }
   ],
   "source": [
    "config = BertConfig.from_pretrained(settings.BERT_NAME)"
   ]
  },
  {
   "cell_type": "code",
   "execution_count": null,
   "id": "c97d8d7a",
   "metadata": {},
   "outputs": [],
   "source": [
    "config = BertConfig.from_pretrained(settings.BERT_NAME)"
   ]
  },
  {
   "cell_type": "code",
   "execution_count": 204,
   "id": "20f85254",
   "metadata": {},
   "outputs": [
    {
     "data": {
      "text/plain": [
       "transformers.models.bert.configuration_bert.BertConfig"
      ]
     },
     "execution_count": 204,
     "metadata": {},
     "output_type": "execute_result"
    }
   ],
   "source": [
    "type(configg)"
   ]
  },
  {
   "cell_type": "code",
   "execution_count": 205,
   "id": "4d460cc0",
   "metadata": {},
   "outputs": [
    {
     "ename": "TypeError",
     "evalue": "'BertConfig' object is not subscriptable",
     "output_type": "error",
     "traceback": [
      "\u001b[1;31m---------------------------------------------------------------------------\u001b[0m",
      "\u001b[1;31mTypeError\u001b[0m                                 Traceback (most recent call last)",
      "\u001b[1;32m~\\AppData\\Local\\Temp/ipykernel_15816/2713097258.py\u001b[0m in \u001b[0;36m<module>\u001b[1;34m\u001b[0m\n\u001b[1;32m----> 1\u001b[1;33m \u001b[0mconfigg\u001b[0m\u001b[1;33m[\u001b[0m\u001b[1;34m\"hidden_size\"\u001b[0m\u001b[1;33m]\u001b[0m\u001b[1;33m\u001b[0m\u001b[1;33m\u001b[0m\u001b[0m\n\u001b[0m",
      "\u001b[1;31mTypeError\u001b[0m: 'BertConfig' object is not subscriptable"
     ]
    }
   ],
   "source": [
    "configg[\"hidden_size\"]"
   ]
  },
  {
   "cell_type": "code",
   "execution_count": 195,
   "id": "09bc9be0",
   "metadata": {},
   "outputs": [
    {
     "ename": "NameError",
     "evalue": "name 'config' is not defined",
     "output_type": "error",
     "traceback": [
      "\u001b[1;31m---------------------------------------------------------------------------\u001b[0m",
      "\u001b[1;31mNameError\u001b[0m                                 Traceback (most recent call last)",
      "\u001b[1;32m~\\AppData\\Local\\Temp/ipykernel_15816/3747370914.py\u001b[0m in \u001b[0;36m<module>\u001b[1;34m\u001b[0m\n\u001b[1;32m----> 1\u001b[1;33m \u001b[0mconfig\u001b[0m\u001b[1;33m.\u001b[0m\u001b[0mnum_hidden_layers\u001b[0m\u001b[1;33m\u001b[0m\u001b[1;33m\u001b[0m\u001b[0m\n\u001b[0m",
      "\u001b[1;31mNameError\u001b[0m: name 'config' is not defined"
     ]
    }
   ],
   "source": [
    "config.num_hidden_layers"
   ]
  },
  {
   "cell_type": "code",
   "execution_count": 143,
   "id": "5510a21b",
   "metadata": {},
   "outputs": [],
   "source": [
    "inputs2 = par\n",
    "#inputs2[\"labels\"] = tf.reshape(tf.constant([1] * tf.size(y_v).numpy()), (-1, tf.size(y_v)))\n",
    "inputs2[\"labels\"] = tf.reshape(y_v, (-1, tf.size(y_v)))"
   ]
  },
  {
   "cell_type": "code",
   "execution_count": 206,
   "id": "13ea086b",
   "metadata": {},
   "outputs": [
    {
     "name": "stdout",
     "output_type": "stream",
     "text": [
      "3/3 [==============================] - 54s 3s/step - loss: 1.3593\n"
     ]
    },
    {
     "data": {
      "text/plain": [
       "<keras.callbacks.History at 0x2158077a910>"
      ]
     },
     "execution_count": 206,
     "metadata": {},
     "output_type": "execute_result"
    }
   ],
   "source": [
    "model.fit(inputs2[\"input_ids\"][0], inputs2[\"labels\"][0],epochs=EPOCHS)"
   ]
  },
  {
   "cell_type": "code",
   "execution_count": null,
   "id": "0a89b20e",
   "metadata": {},
   "outputs": [],
   "source": [
    "model.save('bert-base-cased')"
   ]
  },
  {
   "cell_type": "code",
   "execution_count": null,
   "id": "c04eab0a",
   "metadata": {},
   "outputs": [],
   "source": []
  },
  {
   "cell_type": "code",
   "execution_count": 147,
   "id": "5f856868",
   "metadata": {},
   "outputs": [
    {
     "data": {
      "text/plain": [
       "<tf.Tensor: shape=(1, 85), dtype=int32, numpy=\n",
       "array([[  101,  3219,  1106, 11769,  8928,  1116,  2798,  2686,  1554,\n",
       "         1214,  1857, 13081, 16509,  1620,  3775,  1111,  1103,  1148,\n",
       "         1159,  7143,  3213,  1104,  1166,  1275,  3775,  1111,  1103,\n",
       "         1214, 16112,  1106,  1429,  1121,   130,  1107,  1504,  1105,\n",
       "        15869,  1412,  3389, 18717,  1517,  1254, 14544,  1506,  1103,\n",
       "        11769,  8928, 12256,  1114,  1412,  2905,  3389, 18155,  2898,\n",
       "         1167,  1190,  1405,  3775,  1137,  1695,  1106,  5787,  3775,\n",
       "        11636,  1103, 24228,  1104, 11769,  8928,  1116,  3418,  5028,\n",
       "         1105,  4518,  1366,  1107,   170,  2012,  2259,  2568, 18155,\n",
       "         1700,  5273, 10351,   102]])>"
      ]
     },
     "execution_count": 147,
     "metadata": {},
     "output_type": "execute_result"
    }
   ],
   "source": [
    "inputs2[\"input_ids\"]"
   ]
  },
  {
   "cell_type": "code",
   "execution_count": 173,
   "id": "a8c36277",
   "metadata": {},
   "outputs": [
    {
     "data": {
      "text/plain": [
       "<tf.Tensor: shape=(1, 85), dtype=int32, numpy=\n",
       "array([[  101,  3219,  1106, 11769,  8928,  1116,  2798,  2686,  1554,\n",
       "         1214,  1857, 13081, 16509,  1620,  3775,  1111,  1103,  1148,\n",
       "         1159,  7143,  3213,  1104,  1166,  1275,  3775,  1111,  1103,\n",
       "         1214, 16112,  1106,  1429,  1121,   130,  1107,  1504,  1105,\n",
       "        15869,  1412,  3389, 18717,  1517,  1254, 14544,  1506,  1103,\n",
       "        11769,  8928, 12256,  1114,  1412,  2905,  3389, 18155,  2898,\n",
       "         1167,  1190,  1405,  3775,  1137,  1695,  1106,  5787,  3775,\n",
       "        11636,  1103, 24228,  1104, 11769,  8928,  1116,  3418,  5028,\n",
       "         1105,  4518,  1366,  1107,   170,  2012,  2259,  2568, 18155,\n",
       "         1700,  5273, 10351,   102]])>"
      ]
     },
     "execution_count": 173,
     "metadata": {},
     "output_type": "execute_result"
    }
   ],
   "source": [
    "inputs2[\"input_ids\"]"
   ]
  },
  {
   "cell_type": "code",
   "execution_count": 177,
   "id": "1dc7c711",
   "metadata": {},
   "outputs": [],
   "source": [
    "#predict\n",
    "outputs=model(inputs2[\"input_ids\"])"
   ]
  },
  {
   "cell_type": "code",
   "execution_count": 182,
   "id": "88b8615d",
   "metadata": {},
   "outputs": [
    {
     "data": {
      "text/plain": [
       "<tf.Tensor: shape=(85, 10), dtype=float32, numpy=\n",
       "array([[ 6.09996438e-01, -9.35568810e-02, -5.71563005e-01,\n",
       "         1.82661340e-02, -1.14775114e-01, -9.57063586e-03,\n",
       "        -6.90958798e-02,  2.07841471e-02, -2.98000634e-01,\n",
       "         5.63239038e-01],\n",
       "       [ 7.07624555e-02,  3.98517773e-02, -3.75171274e-01,\n",
       "        -2.65033320e-02, -2.16003209e-01,  2.04018041e-01,\n",
       "        -2.02192336e-01,  3.41116786e-02, -1.16547391e-01,\n",
       "         2.69588470e-01],\n",
       "       [ 1.98007345e-01,  3.65581781e-01, -1.33165359e-01,\n",
       "         1.22175202e-01, -3.58866632e-01,  1.78980514e-01,\n",
       "        -2.93947250e-01,  3.67936492e-01, -1.61682159e-01,\n",
       "         1.02176547e-01],\n",
       "       [-1.61044091e-01,  4.52278584e-01, -3.50163877e-01,\n",
       "         3.44813198e-01, -3.31458867e-01, -1.06631733e-01,\n",
       "         1.05732083e-02,  3.36906731e-01, -3.55275750e-01,\n",
       "         3.53468478e-01],\n",
       "       [-2.70794511e-01,  4.35088754e-01, -4.31613803e-01,\n",
       "         1.94240287e-01,  3.01667899e-02,  3.51396084e-01,\n",
       "        -4.06330109e-01,  3.37214544e-02, -4.35644090e-01,\n",
       "        -1.76247433e-01],\n",
       "       [ 1.40055925e-01, -3.10528576e-02, -3.28374267e-01,\n",
       "        -3.22047412e-01, -7.75692463e-02,  1.63657755e-01,\n",
       "        -2.36787528e-01,  1.46985963e-01,  8.57497156e-02,\n",
       "        -3.39350015e-01],\n",
       "       [ 7.04642236e-02,  8.09094608e-02, -3.58708724e-02,\n",
       "         7.70246536e-02, -1.90873146e-01, -1.36291221e-01,\n",
       "        -3.60382706e-01,  2.01993108e-01, -8.73811617e-02,\n",
       "        -1.20728120e-01],\n",
       "       [ 1.64551139e-01,  2.16773629e-01,  3.19659412e-02,\n",
       "        -5.93043007e-02, -2.45263964e-01,  6.90300688e-02,\n",
       "        -1.31417021e-01,  3.04298252e-01, -2.76433885e-01,\n",
       "        -6.57001883e-02],\n",
       "       [ 7.57758319e-03, -7.04509318e-02, -2.29128271e-01,\n",
       "        -4.34818715e-02, -5.06504774e-01,  1.17220879e-02,\n",
       "        -1.34815276e-01, -2.36896425e-03, -8.66641849e-02,\n",
       "         1.24285504e-01],\n",
       "       [-6.47205263e-02,  3.58108789e-01, -2.20877230e-01,\n",
       "        -5.62382489e-02, -5.83147585e-01,  3.74355495e-01,\n",
       "         1.57548353e-01,  1.10076845e-01, -3.29767585e-01,\n",
       "         1.37859285e-01],\n",
       "       [-2.44628608e-01,  4.71729040e-01, -4.91105244e-02,\n",
       "         1.88121274e-02, -4.37512845e-01,  2.28690207e-02,\n",
       "         2.66499370e-02,  2.74022445e-02, -1.11357465e-01,\n",
       "        -2.34498754e-02],\n",
       "       [ 2.23885197e-02,  2.17642128e-01, -2.31911868e-01,\n",
       "         1.36254117e-01, -6.65391311e-02,  2.07722515e-01,\n",
       "        -3.63730520e-01,  3.91407341e-01, -6.33674338e-02,\n",
       "        -1.15145095e-01],\n",
       "       [ 6.11459240e-02,  8.38338733e-02, -2.65587628e-01,\n",
       "         7.03457594e-02, -5.67852378e-01,  1.05504364e-01,\n",
       "        -9.58499908e-02,  1.27895519e-01, -3.49049419e-01,\n",
       "         1.71081901e-01],\n",
       "       [ 1.29619986e-01,  2.42093235e-01, -4.41875845e-01,\n",
       "        -2.53721118e-01, -4.14472163e-01,  2.45513394e-02,\n",
       "        -1.25020176e-01, -1.85449988e-01, -7.07146674e-02,\n",
       "        -2.09420368e-01],\n",
       "       [-2.67855883e-01, -2.84322053e-02, -1.98933780e-01,\n",
       "         1.40980631e-02, -1.27873167e-01,  2.77114868e-01,\n",
       "        -2.27741897e-02,  5.28860390e-02, -3.59127000e-02,\n",
       "         1.21959157e-01],\n",
       "       [-5.60201168e-01, -1.25235170e-01, -4.77970928e-01,\n",
       "        -9.86489654e-02, -6.57328308e-01, -4.53427434e-02,\n",
       "        -3.03039730e-01,  1.82060510e-01, -3.10046762e-01,\n",
       "        -5.91341138e-01],\n",
       "       [-2.26777315e-01, -2.50340134e-01, -1.93400517e-01,\n",
       "        -1.04451165e-01, -5.33713579e-01,  1.36394784e-01,\n",
       "        -2.37671822e-01,  3.55030417e-01, -1.31039530e-01,\n",
       "        -4.94326293e-01],\n",
       "       [-4.05013621e-01, -3.41740787e-01, -3.34136069e-01,\n",
       "        -2.40965933e-01, -6.70267820e-01,  3.67723525e-01,\n",
       "        -1.06418341e-01, -2.36608490e-01,  3.17166716e-01,\n",
       "        -4.15116787e-01],\n",
       "       [-5.43842018e-01, -2.36692503e-01, -5.20551860e-01,\n",
       "        -4.55428332e-01, -8.32164168e-01,  4.50568497e-01,\n",
       "        -6.60143048e-02, -1.41486928e-01, -1.38421744e-01,\n",
       "        -3.82944494e-01],\n",
       "       [-3.05799320e-02,  3.19889188e-01, -2.98285097e-01,\n",
       "         5.67334890e-03, -2.49738902e-01,  2.96439171e-01,\n",
       "        -2.93454677e-01,  3.83636951e-01,  5.16938716e-02,\n",
       "        -8.32156688e-02],\n",
       "       [-1.70960978e-01,  1.61433950e-01, -9.88029167e-02,\n",
       "        -1.21217579e-01, -3.27247024e-01,  9.92243811e-02,\n",
       "        -2.35767394e-01,  3.84356052e-01, -3.90477836e-01,\n",
       "         1.77553952e-01],\n",
       "       [ 1.42230257e-01,  1.33997202e-03, -3.35152984e-01,\n",
       "        -2.56357253e-01, -5.19502401e-01,  2.77768284e-01,\n",
       "        -2.38081798e-01, -9.51318443e-03, -4.34467226e-01,\n",
       "        -2.30133742e-01],\n",
       "       [-9.27044749e-02,  3.64593446e-01, -5.18550813e-01,\n",
       "        -1.72353804e-01, -5.57245612e-01,  1.12214364e-01,\n",
       "        -1.33861244e-01, -2.76143327e-02, -3.49865168e-01,\n",
       "         6.56817853e-02],\n",
       "       [ 3.31300199e-01,  1.33193284e-01, -4.97802675e-01,\n",
       "        -3.00010383e-01, -3.58413905e-01, -2.45977014e-01,\n",
       "        -1.26180634e-01, -2.81033933e-01,  2.32744962e-03,\n",
       "        -3.40788871e-01],\n",
       "       [-3.00168961e-01, -1.10784784e-01, -2.61348218e-01,\n",
       "        -9.70616937e-03, -2.01603234e-01,  1.67863563e-01,\n",
       "        -7.72284567e-02,  1.51739836e-01,  3.74212116e-02,\n",
       "         1.33940235e-01],\n",
       "       [-2.00960040e-02,  2.63818383e-01, -4.07064199e-01,\n",
       "        -2.55719930e-01, -5.73099136e-01, -3.94121170e-01,\n",
       "        -4.60896194e-01, -8.01166221e-02,  1.97306305e-01,\n",
       "         3.62505406e-01],\n",
       "       [ 1.38284832e-01,  5.23837358e-02, -3.53763252e-01,\n",
       "        -1.67879745e-01, -4.83102411e-01, -4.21257019e-02,\n",
       "        -2.57748961e-01, -1.87355787e-01, -4.73325402e-02,\n",
       "        -3.22841674e-01],\n",
       "       [ 8.48477483e-02,  4.53784108e-01, -2.82827675e-01,\n",
       "         7.21226931e-02, -5.61004341e-01,  6.21639863e-02,\n",
       "         2.12072149e-01,  2.40034685e-01, -1.12721696e-02,\n",
       "         2.15713084e-02],\n",
       "       [ 4.86913621e-02,  1.40388280e-01, -6.86491430e-02,\n",
       "        -1.69300735e-01, -2.92764783e-01,  1.46827713e-01,\n",
       "        -2.00503007e-01,  2.94746011e-01, -2.17129737e-01,\n",
       "         2.45009363e-03],\n",
       "       [-2.41207480e-02, -1.13484509e-01, -1.47424519e-01,\n",
       "        -1.30044326e-01, -7.84099340e-01,  1.82663545e-01,\n",
       "        -3.24429512e-01,  5.18942833e-01,  2.78683007e-01,\n",
       "         1.29067138e-01],\n",
       "       [ 1.41195819e-01,  3.00742686e-01, -2.60963202e-01,\n",
       "        -5.69460765e-02, -3.64835501e-01,  1.03220172e-01,\n",
       "        -2.38537878e-01,  1.44075558e-01,  8.03616643e-03,\n",
       "         6.59354031e-02],\n",
       "       [-7.90669918e-02,  8.69784206e-02, -3.32482398e-01,\n",
       "        -1.44874305e-01, -6.75055087e-01,  2.07198247e-01,\n",
       "        -2.68172383e-01,  1.10859931e-01,  1.93431228e-01,\n",
       "        -1.15406580e-01],\n",
       "       [ 3.43200564e-02,  3.25153828e-01, -2.95404434e-01,\n",
       "        -2.63148025e-02, -4.16443527e-01,  5.65661192e-02,\n",
       "        -2.63023794e-01,  6.73290938e-02,  7.34852627e-02,\n",
       "         8.28851983e-02],\n",
       "       [-2.32134551e-01,  7.16027260e-01, -2.97330588e-01,\n",
       "        -4.29267213e-02, -5.56115389e-01, -1.15701303e-01,\n",
       "        -7.55957887e-02, -1.47929415e-02,  2.13209048e-01,\n",
       "        -1.89006850e-01],\n",
       "       [-7.67156780e-02,  8.08781028e-01,  1.55932650e-01,\n",
       "        -1.14902496e-01, -2.84372002e-01, -3.26730311e-02,\n",
       "         1.20761447e-01, -1.17782332e-01, -1.75491691e-01,\n",
       "         9.88922417e-02],\n",
       "       [ 2.37163529e-02,  3.71068418e-01, -3.79926562e-01,\n",
       "        -5.13043776e-02, -5.08366287e-01, -2.28558034e-02,\n",
       "        -6.41416833e-02,  3.11141342e-01, -5.98008968e-02,\n",
       "        -5.05214408e-02],\n",
       "       [ 7.58010149e-02,  5.08551180e-01, -2.19102383e-01,\n",
       "         3.50882784e-02, -2.91188359e-01,  1.11034274e-01,\n",
       "         2.77066529e-02,  2.34352753e-01,  1.18158042e-01,\n",
       "         3.57342623e-02],\n",
       "       [ 1.81911647e-01,  3.55308712e-01,  5.97027540e-02,\n",
       "         2.30008751e-01, -3.55426937e-01,  1.64099671e-02,\n",
       "        -2.56815284e-01,  2.82196194e-01, -1.36103064e-01,\n",
       "        -6.77303076e-02],\n",
       "       [ 1.12842172e-01,  1.95953399e-01, -1.72229692e-01,\n",
       "        -3.23167294e-02, -2.63160646e-01, -3.00251059e-02,\n",
       "        -7.58964196e-02,  2.42945537e-01, -2.18328223e-01,\n",
       "        -3.46053421e-01],\n",
       "       [ 1.40673548e-01,  1.74993485e-01, -1.83333442e-01,\n",
       "         8.76601860e-02, -2.68090218e-01, -2.22371191e-01,\n",
       "        -2.22924411e-01,  3.87150586e-01, -1.47478536e-01,\n",
       "         7.44975805e-02],\n",
       "       [-5.17031908e-01,  2.52842009e-02, -5.95445514e-01,\n",
       "         3.64792585e-01, -6.36043906e-01, -1.53830886e-01,\n",
       "         5.62897623e-02,  2.17546433e-01,  2.97318161e-01,\n",
       "        -3.59018803e-01],\n",
       "       [-2.97527105e-01,  1.62592024e-01, -5.74923038e-01,\n",
       "         2.44995788e-01, -7.93989599e-01,  1.86262146e-01,\n",
       "         2.97092110e-01,  3.62984687e-01, -1.43105969e-01,\n",
       "        -4.99988496e-01],\n",
       "       [-1.41083717e-01,  3.36008787e-01, -2.83653796e-01,\n",
       "         1.09784715e-01, -2.57881194e-01,  1.58313647e-01,\n",
       "         1.34749442e-01,  2.76413500e-01, -2.51596063e-01,\n",
       "         9.76814628e-02],\n",
       "       [ 1.40326038e-01,  1.82899833e-01, -3.90071064e-01,\n",
       "         9.41835418e-02, -2.67496914e-01, -7.99858645e-02,\n",
       "         1.03038624e-02, -4.36654687e-03, -3.32221761e-02,\n",
       "        -1.08173907e-01],\n",
       "       [ 5.23199439e-02,  1.91737562e-02, -1.73537999e-01,\n",
       "         2.71431133e-02, -5.25897622e-01,  2.54669785e-03,\n",
       "         1.19255528e-01,  4.12629724e-01, -8.39244947e-02,\n",
       "        -5.05070746e-01],\n",
       "       [-4.05274108e-02,  3.98218721e-01, -3.53530318e-01,\n",
       "         4.10516739e-01, -3.69475484e-01, -2.27266788e-01,\n",
       "         1.10376716e-01,  5.88201523e-01, -3.66557896e-01,\n",
       "         2.94642866e-01],\n",
       "       [ 6.28428534e-02,  2.81580061e-01, -3.59848440e-01,\n",
       "         5.08837774e-02,  7.51110315e-02,  2.00639278e-01,\n",
       "        -5.58494985e-01,  2.13746652e-01, -4.11401391e-01,\n",
       "        -2.78328568e-01],\n",
       "       [ 2.49257848e-01,  2.41741538e-01, -2.26842895e-01,\n",
       "         1.38485029e-01, -2.99760938e-01, -7.88923576e-02,\n",
       "        -1.64980665e-01,  3.95772845e-01, -8.95901695e-02,\n",
       "        -2.70870209e-01],\n",
       "       [-7.37419352e-02,  3.84888873e-02, -2.68658012e-01,\n",
       "        -1.88524589e-01, -3.56750190e-01,  1.52548999e-01,\n",
       "         1.40470535e-01,  2.28693202e-01, -8.13479424e-02,\n",
       "        -1.09884366e-02],\n",
       "       [ 9.41019803e-02,  3.91126424e-01,  1.39319971e-02,\n",
       "         2.03281894e-01, -4.31242257e-01,  1.00477748e-02,\n",
       "        -2.89415747e-01,  1.34963885e-01, -1.04404539e-01,\n",
       "        -1.31395742e-01],\n",
       "       [ 1.06700040e-01,  4.02704120e-01, -1.50980428e-01,\n",
       "        -4.03749496e-02, -3.00245494e-01, -2.77435482e-01,\n",
       "         9.80226547e-02, -2.16346569e-02,  3.90468538e-02,\n",
       "        -1.34360433e-01],\n",
       "       [ 3.68074775e-02,  9.73146632e-02, -1.45795211e-01,\n",
       "        -1.42159477e-01, -3.32554013e-01, -9.85828638e-02,\n",
       "        -2.11818516e-02,  1.97182342e-01, -2.49146014e-01,\n",
       "        -4.61094201e-01],\n",
       "       [-3.14240232e-02,  3.92444611e-01, -8.29808861e-02,\n",
       "         5.96960038e-02, -1.20060369e-01, -7.84326643e-02,\n",
       "        -3.01000714e-01,  5.01308203e-01, -8.23893398e-03,\n",
       "        -8.56141746e-02],\n",
       "       [-4.69148010e-02,  1.01065159e-01, -1.90865815e-01,\n",
       "        -2.78063238e-01, -3.29570442e-01,  9.54783782e-02,\n",
       "        -8.82127360e-02,  3.56360137e-01, -2.73948044e-01,\n",
       "        -1.96183205e-01],\n",
       "       [-6.23160005e-02,  5.08529097e-02, -1.75796628e-01,\n",
       "        -2.65309393e-01, -3.86533290e-01,  1.33711815e-01,\n",
       "        -8.66069645e-03,  1.28614277e-01, -2.03834623e-01,\n",
       "         5.13648540e-02],\n",
       "       [-3.73397470e-01,  3.75632644e-01,  1.45863891e-01,\n",
       "        -3.55238348e-01, -2.92032480e-01,  1.64597601e-01,\n",
       "        -3.35759997e-01, -3.24704736e-01, -4.78904098e-01,\n",
       "         2.13341743e-01],\n",
       "       [ 2.40200996e-01,  2.41443828e-01, -5.25471568e-01,\n",
       "        -3.23678374e-01, -4.70467389e-01,  7.86548853e-02,\n",
       "         1.36864334e-01, -4.13209468e-01, -7.14033544e-02,\n",
       "        -4.72012311e-01],\n",
       "       [-1.69491976e-01,  9.09495875e-02, -1.31739005e-01,\n",
       "        -1.25326812e-02,  1.05981864e-01,  8.23333859e-02,\n",
       "        -1.40096188e-01,  4.92041558e-02,  7.96737820e-02,\n",
       "        -9.75744277e-02],\n",
       "       [ 1.64315850e-02,  4.13395911e-01, -7.06422850e-02,\n",
       "        -1.70860782e-01, -2.59502411e-01, -2.41767615e-02,\n",
       "        -4.07375306e-01,  3.15995961e-01, -7.50926286e-02,\n",
       "         2.78861802e-02],\n",
       "       [ 7.62372240e-02,  3.93864810e-01,  3.30103561e-03,\n",
       "         9.86379385e-02, -1.93035141e-01, -8.23038667e-02,\n",
       "        -3.77608687e-02, -5.17485857e-01,  9.04267356e-02,\n",
       "        -4.12987471e-01],\n",
       "       [ 2.28097141e-01,  6.70905188e-02, -1.51202977e-01,\n",
       "        -2.91225970e-01, -2.63576895e-01,  2.72315651e-01,\n",
       "        -1.89887628e-01,  2.71336973e-01,  2.82775193e-01,\n",
       "         1.25597790e-02],\n",
       "       [-9.57580209e-02,  2.25513682e-01, -3.24629724e-01,\n",
       "        -1.52308032e-01, -4.12148476e-01,  2.21631095e-01,\n",
       "         1.13258302e-01, -2.69534022e-01, -1.14323169e-01,\n",
       "        -3.26094985e-01],\n",
       "       [-3.32466185e-01,  2.90366113e-02, -1.42631084e-01,\n",
       "        -8.43861923e-02, -6.40850440e-02,  2.24913061e-02,\n",
       "        -1.27454609e-01,  6.07883669e-02,  1.10248178e-02,\n",
       "         9.54567790e-02],\n",
       "       [ 7.15542585e-03,  4.53815073e-01, -2.82739520e-01,\n",
       "        -7.78660178e-03, -2.03839153e-01, -8.79455730e-02,\n",
       "         4.12425734e-02,  2.34202817e-01, -1.85319394e-01,\n",
       "        -7.60774314e-03],\n",
       "       [ 3.62429768e-03,  7.95443058e-02, -2.19134241e-01,\n",
       "        -2.41850615e-01, -2.73199171e-01,  1.31591335e-01,\n",
       "         8.63879919e-04,  4.15304303e-01, -2.11327985e-01,\n",
       "        -1.02634132e-01],\n",
       "       [ 2.60306478e-01,  1.99886471e-01,  4.43624966e-02,\n",
       "        -5.64072132e-02, -7.83150792e-02, -1.90757424e-01,\n",
       "        -2.11796016e-01,  7.87515938e-02, -4.75943446e-01,\n",
       "         4.65330854e-03],\n",
       "       [ 5.05470112e-02,  1.33795738e-01, -1.15754567e-01,\n",
       "        -2.31617391e-01, -1.15392238e-01, -9.74953920e-03,\n",
       "         2.54430324e-02,  2.99336195e-01, -3.20483625e-01,\n",
       "        -1.61756724e-01],\n",
       "       [-1.31563351e-01,  4.40965116e-01, -4.36610639e-01,\n",
       "         3.30982447e-01, -4.03216749e-01, -1.87766492e-01,\n",
       "        -1.00724474e-01,  3.90158325e-01, -4.90522534e-01,\n",
       "         2.11126789e-01],\n",
       "       [-1.52676672e-01,  3.18770647e-01, -4.04378176e-01,\n",
       "         2.59643883e-01,  5.17295003e-02,  1.81546479e-01,\n",
       "        -4.26064014e-01,  4.65237387e-02, -4.85550344e-01,\n",
       "        -2.55942643e-01],\n",
       "       [ 1.92025393e-01, -5.28616011e-02, -3.13768029e-01,\n",
       "        -2.14751422e-01, -1.36760592e-01, -5.93906194e-02,\n",
       "        -5.28013527e-01,  3.52725387e-02,  1.38332888e-01,\n",
       "        -5.77612400e-01],\n",
       "       [ 1.33765087e-01,  1.84580311e-01, -3.10596794e-01,\n",
       "        -3.21022645e-02,  6.49046525e-02, -1.11870378e-01,\n",
       "        -2.56680958e-02,  2.66524591e-02,  3.00796330e-02,\n",
       "        -9.03458670e-02],\n",
       "       [ 8.54108632e-02,  1.76238403e-01,  4.76808324e-02,\n",
       "        -6.26646429e-02, -3.91855836e-04,  1.47317514e-01,\n",
       "        -2.11199731e-01,  4.89266872e-01, -1.71182722e-01,\n",
       "        -2.46792421e-01],\n",
       "       [-1.59362435e-01,  2.51450837e-01, -4.93231833e-01,\n",
       "        -1.67762607e-01, -2.27113172e-01,  1.66567698e-01,\n",
       "         6.63625449e-02,  4.57526982e-01, -1.83209479e-01,\n",
       "         2.88368315e-01],\n",
       "       [-3.30432206e-02,  3.14501911e-01, -6.60951853e-01,\n",
       "        -1.02745272e-01, -3.46898615e-01,  1.58519730e-01,\n",
       "        -9.35548544e-03,  1.00766614e-01, -3.50415707e-03,\n",
       "         9.26930755e-02],\n",
       "       [ 1.22168615e-01,  1.96570948e-01,  2.45982073e-02,\n",
       "         1.70185700e-01, -6.89622313e-02,  1.75071985e-01,\n",
       "        -8.00043643e-02,  4.37962890e-01, -7.19203278e-02,\n",
       "        -3.85639369e-01],\n",
       "       [-3.05115283e-02,  8.05295259e-02, -1.37965381e-03,\n",
       "        -1.41631067e-01, -2.74879217e-01,  8.56335089e-02,\n",
       "         1.02977157e-01, -2.59828717e-01,  1.19021714e-01,\n",
       "        -3.97581041e-01],\n",
       "       [ 1.30906105e-02, -1.35699511e-01, -2.61407554e-01,\n",
       "        -1.88534707e-01, -2.13314638e-01,  1.88349560e-01,\n",
       "         2.48781562e-01,  2.16380298e-01,  1.99726522e-01,\n",
       "        -3.72312218e-01],\n",
       "       [-8.11808407e-02,  2.34328151e-01, -2.24395618e-01,\n",
       "         2.60185115e-02, -5.47393523e-02,  8.74563977e-02,\n",
       "         1.08885944e-01, -8.60436261e-02,  9.03258473e-02,\n",
       "         6.84640482e-02],\n",
       "       [ 5.27066767e-01,  1.66251436e-02, -3.58971179e-01,\n",
       "        -1.95973217e-01, -3.53800833e-01, -2.60618508e-01,\n",
       "        -2.98275411e-01,  2.35230878e-01,  3.19248557e-01,\n",
       "         1.86254874e-01],\n",
       "       [ 1.23864293e-01,  1.50835067e-01, -9.23066586e-02,\n",
       "        -3.05374920e-01, -2.70213664e-01, -6.81492537e-02,\n",
       "        -1.71988085e-01,  3.25948477e-01,  6.26406074e-02,\n",
       "        -1.40269846e-02],\n",
       "       [ 6.87140226e-03,  2.05205828e-01,  4.61163297e-02,\n",
       "        -1.44648775e-02, -5.54074645e-02, -7.88993910e-02,\n",
       "        -2.88095057e-01,  3.79888475e-01,  7.34252632e-02,\n",
       "        -1.49102554e-01],\n",
       "       [ 1.99713469e-01,  2.09227383e-01, -1.44689888e-01,\n",
       "         1.52465180e-01, -2.19844520e-01, -9.12749842e-02,\n",
       "         1.43657401e-01,  3.90504897e-01, -1.56628191e-02,\n",
       "         2.05653295e-01],\n",
       "       [ 1.68179035e-01,  3.10636520e-01, -2.23488182e-01,\n",
       "        -2.98336625e-01, -4.27139759e-01, -3.04079950e-02,\n",
       "        -1.41927198e-01,  1.81212038e-01,  3.85766104e-02,\n",
       "        -1.77319437e-01],\n",
       "       [-2.14949995e-02,  3.02293777e-01, -2.68589765e-01,\n",
       "         1.57802254e-01, -9.42244977e-02, -1.77521929e-01,\n",
       "         8.50906447e-02,  1.60950780e-01,  2.41448700e-01,\n",
       "         8.40399489e-02],\n",
       "       [-5.42183340e-01, -8.71961415e-02, -1.09540653e+00,\n",
       "        -1.28951699e-01, -4.35023233e-02, -5.71628034e-01,\n",
       "         2.15153441e-01,  1.72912031e-01,  7.59377927e-02,\n",
       "        -4.81528759e-01]], dtype=float32)>"
      ]
     },
     "execution_count": 182,
     "metadata": {},
     "output_type": "execute_result"
    }
   ],
   "source": [
    "outputs[0][0]"
   ]
  },
  {
   "cell_type": "code",
   "execution_count": null,
   "id": "c04d3444",
   "metadata": {},
   "outputs": [],
   "source": []
  },
  {
   "cell_type": "code",
   "execution_count": 161,
   "id": "f296d912",
   "metadata": {},
   "outputs": [],
   "source": [
    "input_ids = tf.constant(TOKENIZER.encode(\"Hello, my dog is cute\", add_special_tokens=True))[None, :]  # Batch size 1\n",
    "outputs = model(input_ids)\n",
    "scores = outputs[0]"
   ]
  },
  {
   "cell_type": "code",
   "execution_count": 162,
   "id": "f9b00e2b",
   "metadata": {},
   "outputs": [
    {
     "data": {
      "text/plain": [
       "<tf.Tensor: shape=(1, 8), dtype=int32, numpy=array([[  101,  8667,   117,  1139,  3676,  1110, 10509,   102]])>"
      ]
     },
     "execution_count": 162,
     "metadata": {},
     "output_type": "execute_result"
    }
   ],
   "source": [
    "input_ids"
   ]
  },
  {
   "cell_type": "code",
   "execution_count": 164,
   "id": "3b1db9e2",
   "metadata": {},
   "outputs": [
    {
     "data": {
      "text/plain": [
       "TFTokenClassifierOutput(loss=None, logits=<tf.Tensor: shape=(1, 8, 10), dtype=float32, numpy=\n",
       "array([[[-0.7028173 ,  0.0290671 ,  0.14094062,  0.11958211,\n",
       "          0.4643381 ,  0.1557987 , -0.56651926, -0.43616956,\n",
       "         -0.37233385, -0.16765007],\n",
       "        [-0.7027081 ,  0.02906421,  0.1409397 ,  0.11956649,\n",
       "          0.46438566,  0.15582941, -0.5665567 , -0.4362227 ,\n",
       "         -0.37236378, -0.16769962],\n",
       "        [-0.70276004,  0.02907233,  0.14094695,  0.11957465,\n",
       "          0.46437028,  0.15582116, -0.5665365 , -0.43619305,\n",
       "         -0.37234667, -0.16767907],\n",
       "        [-0.7027638 ,  0.02906602,  0.14093913,  0.11956943,\n",
       "          0.464367  ,  0.15582053, -0.5665381 , -0.43620262,\n",
       "         -0.37236387, -0.16767898],\n",
       "        [-0.70268804,  0.0290756 ,  0.1409707 ,  0.11956419,\n",
       "          0.4643933 ,  0.15586093, -0.5665642 , -0.43623987,\n",
       "         -0.3724041 , -0.16773063],\n",
       "        [-0.7026604 ,  0.0290841 ,  0.14095993,  0.11956125,\n",
       "          0.46440467,  0.15585516, -0.5665569 , -0.43622643,\n",
       "         -0.37240094, -0.16770881],\n",
       "        [-0.7027912 ,  0.02906218,  0.14093837,  0.11958153,\n",
       "          0.46434632,  0.1558075 , -0.5665295 , -0.4361868 ,\n",
       "         -0.37235793, -0.16766769],\n",
       "        [-0.70285195,  0.0290656 ,  0.14093553,  0.11958886,\n",
       "          0.46431896,  0.15578637, -0.5665115 , -0.43616083,\n",
       "         -0.37232414, -0.16763595]]], dtype=float32)>, hidden_states=None, attentions=None)"
      ]
     },
     "execution_count": 164,
     "metadata": {},
     "output_type": "execute_result"
    }
   ],
   "source": [
    "outputs"
   ]
  },
  {
   "cell_type": "code",
   "execution_count": null,
   "id": "0387ad68",
   "metadata": {
    "id": "0387ad68"
   },
   "outputs": [],
   "source": [
    "## Global logic till now\n",
    "# data_fn >> json\n",
    "# convertdata pd >> dataframes, tokenizer\n",
    "# clean text\n",
    "# constructor par, num >> transforms into y vector of tokenized labels\n",
    "# prepare to model\n",
    "#     inputs2 = par\n",
    "#     inputs2[\"labels\"] = tf.reshape(tf.constant([1] * tf.size(y_v).numpy()), (-1, tf.size(y_v)))"
   ]
  },
  {
   "cell_type": "code",
   "execution_count": null,
   "id": "3948b6df",
   "metadata": {
    "colab": {
     "base_uri": "https://localhost:8080/"
    },
    "id": "3948b6df",
    "outputId": "851f20fc-ac58-49d4-82e3-658f1a6ad15e"
   },
   "outputs": [
    {
     "name": "stdout",
     "output_type": "stream",
     "text": [
      "PARAGRAPH 485 Turning to Optum's financial results. Full year 2018 revenues surpassed $100 billion for the first time. Revenue growth of over $10 billion for the year accelerated to 11% from 9% in 2017. And likewise our operating margins once again strengthened across the Optum portfolio with our overall operating earnings growing more than $1.5 billion or 23% to $8.2 billion reflecting the leverage of Optum's scale businesses and putting us in a strong baseline earnings position entering 2019.\n",
      "TOKENIZED 3 {'input_ids': <tf.Tensor: shape=(1, 85), dtype=int32, numpy=\n",
      "array([[  101,  3219,  1106, 11769,  8928,  1116,  2798,  2686,  1554,\n",
      "         1214,  1857, 13081, 16509,  1620,  3775,  1111,  1103,  1148,\n",
      "         1159,  7143,  3213,  1104,  1166,  1275,  3775,  1111,  1103,\n",
      "         1214, 16112,  1106,  1429,  1121,   130,  1107,  1504,  1105,\n",
      "        15869,  1412,  3389, 18717,  1517,  1254, 14544,  1506,  1103,\n",
      "        11769,  8928, 12256,  1114,  1412,  2905,  3389, 18155,  2898,\n",
      "         1167,  1190,  1405,  3775,  1137,  1695,  1106,  5787,  3775,\n",
      "        11636,  1103, 24228,  1104, 11769,  8928,  1116,  3418,  5028,\n",
      "         1105,  4518,  1366,  1107,   170,  2012,  2259,  2568, 18155,\n",
      "         1700,  5273, 10351,   102]], dtype=int32)>, 'token_type_ids': <tf.Tensor: shape=(1, 85), dtype=int32, numpy=\n",
      "array([[0, 0, 0, 0, 0, 0, 0, 0, 0, 0, 0, 0, 0, 0, 0, 0, 0, 0, 0, 0, 0, 0,\n",
      "        0, 0, 0, 0, 0, 0, 0, 0, 0, 0, 0, 0, 0, 0, 0, 0, 0, 0, 0, 0, 0, 0,\n",
      "        0, 0, 0, 0, 0, 0, 0, 0, 0, 0, 0, 0, 0, 0, 0, 0, 0, 0, 0, 0, 0, 0,\n",
      "        0, 0, 0, 0, 0, 0, 0, 0, 0, 0, 0, 0, 0, 0, 0, 0, 0, 0, 0]],\n",
      "      dtype=int32)>, 'attention_mask': <tf.Tensor: shape=(1, 85), dtype=int32, numpy=\n",
      "array([[1, 1, 1, 1, 1, 1, 1, 1, 1, 1, 1, 1, 1, 1, 1, 1, 1, 1, 1, 1, 1, 1,\n",
      "        1, 1, 1, 1, 1, 1, 1, 1, 1, 1, 1, 1, 1, 1, 1, 1, 1, 1, 1, 1, 1, 1,\n",
      "        1, 1, 1, 1, 1, 1, 1, 1, 1, 1, 1, 1, 1, 1, 1, 1, 1, 1, 1, 1, 1, 1,\n",
      "        1, 1, 1, 1, 1, 1, 1, 1, 1, 1, 1, 1, 1, 1, 1, 1, 1, 1, 1]],\n",
      "      dtype=int32)>}\n",
      "VECTOR NUMBERS 85 [0.000e+00 0.000e+00 0.000e+00 0.000e+00 0.000e+00 0.000e+00 0.000e+00\n",
      " 0.000e+00 0.000e+00 0.000e+00 2.018e+03 0.000e+00 0.000e+00 1.000e+02\n",
      " 0.000e+00 0.000e+00 0.000e+00 0.000e+00 0.000e+00 0.000e+00 0.000e+00\n",
      " 0.000e+00 0.000e+00 1.000e+01 0.000e+00 0.000e+00 0.000e+00 0.000e+00\n",
      " 0.000e+00 0.000e+00 1.100e+01 0.000e+00 9.000e+00 0.000e+00 2.017e+03\n",
      " 0.000e+00 0.000e+00 0.000e+00 0.000e+00 0.000e+00 0.000e+00 0.000e+00\n",
      " 0.000e+00 0.000e+00 0.000e+00 0.000e+00 0.000e+00 0.000e+00 0.000e+00\n",
      " 0.000e+00 0.000e+00 0.000e+00 0.000e+00 0.000e+00 0.000e+00 0.000e+00\n",
      " 1.500e+00 0.000e+00 0.000e+00 2.300e+01 0.000e+00 8.200e+00 0.000e+00\n",
      " 0.000e+00 0.000e+00 0.000e+00 0.000e+00 0.000e+00 0.000e+00 0.000e+00\n",
      " 0.000e+00 0.000e+00 0.000e+00 0.000e+00 0.000e+00 0.000e+00 0.000e+00\n",
      " 0.000e+00 0.000e+00 0.000e+00 0.000e+00 0.000e+00 0.000e+00 2.019e+03\n",
      " 0.000e+00]\n",
      "VECTOR CATEGORIES 85 tf.Tensor(\n",
      "[   0.    0.    0.    0.    0.    0.    0.    0.    0.    0. 2236.    0.\n",
      "    0. 1948.    0.    0.    0.    0.    0.    0.    0.    0.    0. 1849.\n",
      "    0.    0.    0.    0.    0.    0. 5236.    0. 1849.    0. 2236.    0.\n",
      "    0.    0.    0.    0.    0.    0.    0.    0.    0.    0.    0.    0.\n",
      "    0.    0.    0.    0.    0.    0.    0.    0. 1849.    0.    0. 5236.\n",
      "    0. 1948.    0.    0.    0.    0.    0.    0.    0.    0.    0.    0.\n",
      "    0.    0.    0.    0.    0.    0.    0.    0.    0.    0.    0. 2236.\n",
      "    0.], shape=(85,), dtype=float32)\n"
     ]
    }
   ],
   "source": [
    "###DATA FOR VASILIS\n",
    "#original data\n",
    "\n",
    "data_rows.iloc[3,:] # for non tokenized data\n",
    "# data_rows.iloc[0,1][0][\"label\"].numpy() # for tokenized data\n",
    "\n",
    "x_3=x[3]\n",
    "y_3=y[3]\n",
    "\n",
    "# convert and tokenize\n",
    "par,y_v,nub=constructor(x_3,y_3, return_tensors='tf')\n",
    "\n",
    "\n",
    "# print\n",
    "print(\"PARAGRAPH\",len(x_3), x_3)\n",
    "print(\"TOKENIZED\", len(par),par)\n",
    "print(\"VECTOR NUMBERS\",len(nub),nub)\n",
    "print(\"VECTOR CATEGORIES\",len(y_v),y_v)"
   ]
  },
  {
   "cell_type": "code",
   "execution_count": null,
   "id": "nkePenKCnhCX",
   "metadata": {
    "id": "nkePenKCnhCX"
   },
   "outputs": [],
   "source": [
    "y_v = np.array([   0,    0,    0,    0,    0,    0,    0,    0,    0,    0, 1,    0,\n",
    "    0, 2,    0,    0,    0,    0,    0,    0,    0,    0,    0, 3,\n",
    "    0,    0,    0,    0,    0,    0, 4,    0, 3,    0, 1,    0,\n",
    "    0,    0,    0,    0,    0,    0,    0,    0,    0,    0,    0,    0,\n",
    "    0,    0,    0,    0,    0,    0,    0,    0, 3,    0,    0, 4,\n",
    "    0, 2,    0,    0,    0,    0,    0,    0,    0,    0,    0,    0,\n",
    "    0,    0,    0,    0,    0,    0,    0,    0,    0,    0,    0, 1,\n",
    "    0])"
   ]
  },
  {
   "cell_type": "code",
   "execution_count": null,
   "id": "JMYYY9fXnxXI",
   "metadata": {
    "id": "JMYYY9fXnxXI"
   },
   "outputs": [],
   "source": [
    "y_v = tf.convert_to_tensor(y_v)"
   ]
  },
  {
   "cell_type": "code",
   "execution_count": null,
   "id": "a87dade0",
   "metadata": {
    "id": "a87dade0"
   },
   "outputs": [],
   "source": [
    "inputs2 = par\n",
    "#inputs2[\"labels\"] = tf.reshape(tf.constant([1] * tf.size(y_v).numpy()), (-1, tf.size(y_v)))\n",
    "inputs2[\"labels\"] = tf.reshape(y_v, (-1, tf.size(y_v)))"
   ]
  },
  {
   "cell_type": "code",
   "execution_count": null,
   "id": "52014cf0",
   "metadata": {
    "colab": {
     "base_uri": "https://localhost:8080/",
     "height": 118,
     "referenced_widgets": [
      "d2dbba5342584a7abc4b78bcd16d276f",
      "52b11336176c4272a41b41ef73557032",
      "8c83c15ff3e040b9a07c37292d5e38a8",
      "9ef042fd3e2d4369aff5d03a256aa0c9",
      "816b90095feb4c4694983575ac9d610d",
      "a058ebca944649189d592f577a2c8aec",
      "d1ea9a0b33794815a4138396d72f94bf",
      "2ca5cf55300a4ee58db894fb130eb6c3",
      "5b892a8992bc4c3e918ecf6a43b9a5f5",
      "279c1dc56e964c7b8ca4f7baf22d056a",
      "ca831770278a4978964368fc085ff1b7"
     ]
    },
    "id": "52014cf0",
    "outputId": "7f7501b4-10f0-4dad-8638-43b963b6cc0a"
   },
   "outputs": [
    {
     "data": {
      "application/vnd.jupyter.widget-view+json": {
       "model_id": "d2dbba5342584a7abc4b78bcd16d276f",
       "version_major": 2,
       "version_minor": 0
      },
      "text/plain": [
       "Downloading:   0%|          | 0.00/502M [00:00<?, ?B/s]"
      ]
     },
     "metadata": {},
     "output_type": "display_data"
    },
    {
     "name": "stderr",
     "output_type": "stream",
     "text": [
      "All model checkpoint layers were used when initializing TFBertForTokenClassification.\n",
      "\n",
      "Some layers of TFBertForTokenClassification were not initialized from the model checkpoint at bert-base-cased and are newly initialized: ['classifier']\n",
      "You should probably TRAIN this model on a down-stream task to be able to use it for predictions and inference.\n"
     ]
    }
   ],
   "source": [
    "##MODEL information\n",
    "#https://huggingface.co/docs/transformers/model_doc/bert#transformers.TFBertForTokenClassification.**kwargs\n",
    "model = TFBertForTokenClassification.from_pretrained('bert-base-cased',output_attentions=False, num_labels=10)"
   ]
  },
  {
   "cell_type": "code",
   "execution_count": null,
   "id": "SXVgN7sDLvB5",
   "metadata": {
    "id": "SXVgN7sDLvB5"
   },
   "outputs": [],
   "source": [
    "# options on how to train the model\n",
    "# 1 https://stackoverflow.com/questions/62797376/tensorflow-bert-for-token-classification-exclude-pad-tokens-from-accuracy-whil\n",
    "# model.fit(inputs2)\n",
    "# 2 https://huggingface.co/docs/transformers/master/en/main_classes/model#transformers.TFPreTrainedModel.train_step\n",
    "# model.train_step(inputs2)\n",
    "# 3\n",
    "# outputs = model(inputs2,output_hidden_states=True, return_dict =True, training = True)"
   ]
  },
  {
   "cell_type": "code",
   "execution_count": null,
   "id": "1oiHLLTi-Q5Z",
   "metadata": {
    "id": "1oiHLLTi-Q5Z"
   },
   "outputs": [],
   "source": [
    "model.compile(optimizer=\"adam\", loss = tf.keras.losses.SparseCategoricalCrossentropy(from_logits=True))"
   ]
  },
  {
   "cell_type": "code",
   "execution_count": null,
   "id": "OwbnZwEy-fSR",
   "metadata": {
    "colab": {
     "base_uri": "https://localhost:8080/"
    },
    "id": "OwbnZwEy-fSR",
    "outputId": "ae351207-6393-4cd3-e129-98ac60c98e50"
   },
   "outputs": [
    {
     "name": "stdout",
     "output_type": "stream",
     "text": [
      "3/3 [==============================] - 34s 2s/step - loss: 1.3685\n"
     ]
    },
    {
     "data": {
      "text/plain": [
       "<keras.callbacks.History at 0x7fd6d96fec90>"
      ]
     },
     "execution_count": 33,
     "metadata": {},
     "output_type": "execute_result"
    }
   ],
   "source": [
    "model.fit(inputs2[\"input_ids\"][0], inputs2[\"labels\"][0])"
   ]
  },
  {
   "cell_type": "code",
   "execution_count": null,
   "id": "02yXA27qr2TJ",
   "metadata": {
    "colab": {
     "base_uri": "https://localhost:8080/",
     "height": 304
    },
    "id": "02yXA27qr2TJ",
    "outputId": "a13b050c-b86e-4f80-a833-53277577c653"
   },
   "outputs": [
    {
     "ename": "AttributeError",
     "evalue": "ignored",
     "output_type": "error",
     "traceback": [
      "\u001b[0;31m---------------------------------------------------------------------------\u001b[0m",
      "\u001b[0;31mAttributeError\u001b[0m                            Traceback (most recent call last)",
      "\u001b[0;32m<ipython-input-27-f5a76b42dbd7>\u001b[0m in \u001b[0;36m<module>\u001b[0;34m()\u001b[0m\n\u001b[0;32m----> 1\u001b[0;31m \u001b[0moptimizer\u001b[0m \u001b[0;34m=\u001b[0m \u001b[0mtf\u001b[0m\u001b[0;34m.\u001b[0m\u001b[0moptimizers\u001b[0m\u001b[0;34m.\u001b[0m\u001b[0mAdamW\u001b[0m\u001b[0;34m(\u001b[0m\u001b[0mlearning_rate\u001b[0m\u001b[0;34m=\u001b[0m\u001b[0mlr\u001b[0m\u001b[0;34m,\u001b[0m \u001b[0mweight_decay\u001b[0m\u001b[0;34m=\u001b[0m\u001b[0mwd\u001b[0m\u001b[0;34m)\u001b[0m\u001b[0;34m\u001b[0m\u001b[0;34m\u001b[0m\u001b[0m\n\u001b[0m\u001b[1;32m      2\u001b[0m \u001b[0;34m\u001b[0m\u001b[0m\n",
      "\u001b[0;32m/usr/local/lib/python3.7/dist-packages/tensorflow/python/util/lazy_loader.py\u001b[0m in \u001b[0;36m__getattr__\u001b[0;34m(self, item)\u001b[0m\n\u001b[1;32m     61\u001b[0m   \u001b[0;32mdef\u001b[0m \u001b[0m__getattr__\u001b[0m\u001b[0;34m(\u001b[0m\u001b[0mself\u001b[0m\u001b[0;34m,\u001b[0m \u001b[0mitem\u001b[0m\u001b[0;34m)\u001b[0m\u001b[0;34m:\u001b[0m\u001b[0;34m\u001b[0m\u001b[0;34m\u001b[0m\u001b[0m\n\u001b[1;32m     62\u001b[0m     \u001b[0mmodule\u001b[0m \u001b[0;34m=\u001b[0m \u001b[0mself\u001b[0m\u001b[0;34m.\u001b[0m\u001b[0m_load\u001b[0m\u001b[0;34m(\u001b[0m\u001b[0;34m)\u001b[0m\u001b[0;34m\u001b[0m\u001b[0;34m\u001b[0m\u001b[0m\n\u001b[0;32m---> 63\u001b[0;31m     \u001b[0;32mreturn\u001b[0m \u001b[0mgetattr\u001b[0m\u001b[0;34m(\u001b[0m\u001b[0mmodule\u001b[0m\u001b[0;34m,\u001b[0m \u001b[0mitem\u001b[0m\u001b[0;34m)\u001b[0m\u001b[0;34m\u001b[0m\u001b[0;34m\u001b[0m\u001b[0m\n\u001b[0m\u001b[1;32m     64\u001b[0m \u001b[0;34m\u001b[0m\u001b[0m\n\u001b[1;32m     65\u001b[0m   \u001b[0;32mdef\u001b[0m \u001b[0m__dir__\u001b[0m\u001b[0;34m(\u001b[0m\u001b[0mself\u001b[0m\u001b[0;34m)\u001b[0m\u001b[0;34m:\u001b[0m\u001b[0;34m\u001b[0m\u001b[0;34m\u001b[0m\u001b[0m\n",
      "\u001b[0;31mAttributeError\u001b[0m: module 'keras.api._v2.keras.optimizers' has no attribute 'AdamW'"
     ]
    }
   ],
   "source": [
    "#optimizer = tf.optimizers.AdamW(learning_rate=lr, weight_decay=wd)\n",
    "\n"
   ]
  },
  {
   "cell_type": "code",
   "execution_count": null,
   "id": "7de28903",
   "metadata": {
    "id": "7de28903"
   },
   "outputs": [],
   "source": [
    "# tips for model\n",
    "# use AdamW optimizer\n",
    "# you can get the loss via\n",
    "loss = outputs.loss\n",
    "logits = outputs.logits\n",
    "\n",
    "#\n",
    "for epoch in range(2):\n",
    "    loop = tqdm(loader, leave = True)\n",
    "    for batch in loop:\n",
    "        optim.zero_grad()\n",
    "        outputs = model(inputs)\n",
    "        loss = output.loss\n",
    "        loss.backward()\n",
    "        optim.step()\n",
    "        loop.set_description(f'Epoch {epoch}')\n",
    "        loop.set_postfix(loss=loss.item())"
   ]
  },
  {
   "cell_type": "markdown",
   "id": "f9376b6d",
   "metadata": {
    "id": "f9376b6d"
   },
   "source": [
    "Tips"
   ]
  },
  {
   "cell_type": "code",
   "execution_count": null,
   "id": "fe6bd6d9",
   "metadata": {
    "id": "fe6bd6d9"
   },
   "outputs": [],
   "source": [
    "#how to get the different parts of tf\n",
    "inputs.keys()"
   ]
  },
  {
   "cell_type": "code",
   "execution_count": null,
   "id": "73e46b9c",
   "metadata": {
    "id": "73e46b9c"
   },
   "outputs": [],
   "source": []
  },
  {
   "cell_type": "markdown",
   "id": "c08b9023",
   "metadata": {
    "id": "c08b9023"
   },
   "source": [
    "OLD - Other things"
   ]
  },
  {
   "cell_type": "code",
   "execution_count": null,
   "id": "ee5bb701",
   "metadata": {
    "id": "ee5bb701"
   },
   "outputs": [],
   "source": [
    "###\n",
    "# #save x to file\n",
    "# with open('paragraphs.txt', 'w') as output:\n",
    "#     output.write(x)\n",
    "\n",
    "ftxt = x.to_csv('paragraphs.txt', index=False, sep='\\n', mode='a')\n",
    "#separate per line todo: check if we need a file per paragraph\n",
    "    \n",
    "# data_rows.to_csv('autonlp.csv', index=False)"
   ]
  },
  {
   "cell_type": "code",
   "execution_count": null,
   "id": "b19e4e20",
   "metadata": {
    "id": "b19e4e20"
   },
   "outputs": [],
   "source": [
    "#MODEL\n",
    "\n",
    "#option 1\n",
    "\n",
    "class ModelBert:\n",
    "    \"\"\"\n",
    "    Using the raw Bert Model \n",
    "    \"https://towardsdatascience.com/how-to-use-bert-from-the-hugging-face-transformer-library-d373a22b0209\n",
    "    \"\"\"\n",
    "    def __init__(self):\n",
    "        super(ModelBert,self).__init__()\n",
    "        self.out = nn.Linear(self.bert.config.hidden_size,classes)\n",
    "        self.sigmoid = nn.Sigmoid()\n",
    "        #To get the size of the raw BERT outputs, simply use self.bert.config.hidden_size\n",
    "        # we use the raw bert, without being for a specific task\n",
    "        \n",
    "    def forward(self,input,attention_mask):\n",
    "        _,output = self.bert(input,attention_mask = attention_mask)\n",
    "        #check attention mask\n",
    "        res = self.sigmoid(self.out(output))\n",
    "        return res\n",
    "    \n",
    "    def train(self):\n",
    "        training_loss = []\n",
    "        opmitizer.zero_grad()\n",
    "        \n",
    "    #def train(self):   \n",
    "    #return True\n",
    "\n",
    "#option 2\n",
    "#https://huggingface.co/dslim/bert-base-NER\n",
    "from transformers import AutoTokenizer, AutoModelForTokenClassification\n",
    "from transformers import pipeline\n",
    "tokenizer = AutoTokenizer.from_pretrained(\"dslim/bert-base-NER\")\n",
    "model = AutoModelForTokenClassification.from_pretrained(\"dslim/bert-base-NER\")\n",
    "nlp = pipeline(\"ner\", model=model, tokenizer=tokenizer)\n",
    "# obs: there are different pipeline options available from transformers.\n",
    "nlp = pipeline(\"ner\"), model=model) , tokenizer=tokenizer)\n",
    "\n",
    "#option 3\n",
    "model = BertForMaskedLM.from_pretrained('bert-base-uncased',    return_dict = True)\n",
    "output = model(**a)"
   ]
  },
  {
   "cell_type": "code",
   "execution_count": null,
   "id": "c46ea0e3",
   "metadata": {
    "id": "c46ea0e3"
   },
   "outputs": [],
   "source": [
    "b = convertdata_pd(data_fn)\n",
    "example = b.iloc[0,0]\n",
    "ner_results = nlp(example)"
   ]
  }
 ],
 "metadata": {
  "colab": {
   "collapsed_sections": [],
   "name": "Copy of Bert2.ipynb",
   "provenance": []
  },
  "kernelspec": {
   "display_name": "Python 3 (ipykernel)",
   "language": "python",
   "name": "python3"
  },
  "language_info": {
   "codemirror_mode": {
    "name": "ipython",
    "version": 3
   },
   "file_extension": ".py",
   "mimetype": "text/x-python",
   "name": "python",
   "nbconvert_exporter": "python",
   "pygments_lexer": "ipython3",
   "version": "3.8.3"
  },
  "widgets": {
   "application/vnd.jupyter.widget-state+json": {
    "04898636062345d1b217a780a6d2d660": {
     "model_module": "@jupyter-widgets/controls",
     "model_module_version": "1.5.0",
     "model_name": "HTMLModel",
     "state": {
      "_dom_classes": [],
      "_model_module": "@jupyter-widgets/controls",
      "_model_module_version": "1.5.0",
      "_model_name": "HTMLModel",
      "_view_count": null,
      "_view_module": "@jupyter-widgets/controls",
      "_view_module_version": "1.5.0",
      "_view_name": "HTMLView",
      "description": "",
      "description_tooltip": null,
      "layout": "IPY_MODEL_d02283bbaaa9448aa0512263f9fe39cd",
      "placeholder": "​",
      "style": "IPY_MODEL_c38c8d3ad88f449a8197469cd88ad6aa",
      "value": "Downloading: 100%"
     }
    },
    "05eeea4639bf4c29a8ec233a07ab9115": {
     "model_module": "@jupyter-widgets/base",
     "model_module_version": "1.2.0",
     "model_name": "LayoutModel",
     "state": {
      "_model_module": "@jupyter-widgets/base",
      "_model_module_version": "1.2.0",
      "_model_name": "LayoutModel",
      "_view_count": null,
      "_view_module": "@jupyter-widgets/base",
      "_view_module_version": "1.2.0",
      "_view_name": "LayoutView",
      "align_content": null,
      "align_items": null,
      "align_self": null,
      "border": null,
      "bottom": null,
      "display": null,
      "flex": null,
      "flex_flow": null,
      "grid_area": null,
      "grid_auto_columns": null,
      "grid_auto_flow": null,
      "grid_auto_rows": null,
      "grid_column": null,
      "grid_gap": null,
      "grid_row": null,
      "grid_template_areas": null,
      "grid_template_columns": null,
      "grid_template_rows": null,
      "height": null,
      "justify_content": null,
      "justify_items": null,
      "left": null,
      "margin": null,
      "max_height": null,
      "max_width": null,
      "min_height": null,
      "min_width": null,
      "object_fit": null,
      "object_position": null,
      "order": null,
      "overflow": null,
      "overflow_x": null,
      "overflow_y": null,
      "padding": null,
      "right": null,
      "top": null,
      "visibility": null,
      "width": null
     }
    },
    "094e7147bc8a4b48920da77956dad21f": {
     "model_module": "@jupyter-widgets/controls",
     "model_module_version": "1.5.0",
     "model_name": "DescriptionStyleModel",
     "state": {
      "_model_module": "@jupyter-widgets/controls",
      "_model_module_version": "1.5.0",
      "_model_name": "DescriptionStyleModel",
      "_view_count": null,
      "_view_module": "@jupyter-widgets/base",
      "_view_module_version": "1.2.0",
      "_view_name": "StyleView",
      "description_width": ""
     }
    },
    "0a3eca5b7d174041b831183df885b535": {
     "model_module": "@jupyter-widgets/controls",
     "model_module_version": "1.5.0",
     "model_name": "DescriptionStyleModel",
     "state": {
      "_model_module": "@jupyter-widgets/controls",
      "_model_module_version": "1.5.0",
      "_model_name": "DescriptionStyleModel",
      "_view_count": null,
      "_view_module": "@jupyter-widgets/base",
      "_view_module_version": "1.2.0",
      "_view_name": "StyleView",
      "description_width": ""
     }
    },
    "0b5db35bc2b844babb7e9abad774e022": {
     "model_module": "@jupyter-widgets/controls",
     "model_module_version": "1.5.0",
     "model_name": "DescriptionStyleModel",
     "state": {
      "_model_module": "@jupyter-widgets/controls",
      "_model_module_version": "1.5.0",
      "_model_name": "DescriptionStyleModel",
      "_view_count": null,
      "_view_module": "@jupyter-widgets/base",
      "_view_module_version": "1.2.0",
      "_view_name": "StyleView",
      "description_width": ""
     }
    },
    "0eb659834bd74177a3580db818ac0c08": {
     "model_module": "@jupyter-widgets/base",
     "model_module_version": "1.2.0",
     "model_name": "LayoutModel",
     "state": {
      "_model_module": "@jupyter-widgets/base",
      "_model_module_version": "1.2.0",
      "_model_name": "LayoutModel",
      "_view_count": null,
      "_view_module": "@jupyter-widgets/base",
      "_view_module_version": "1.2.0",
      "_view_name": "LayoutView",
      "align_content": null,
      "align_items": null,
      "align_self": null,
      "border": null,
      "bottom": null,
      "display": null,
      "flex": null,
      "flex_flow": null,
      "grid_area": null,
      "grid_auto_columns": null,
      "grid_auto_flow": null,
      "grid_auto_rows": null,
      "grid_column": null,
      "grid_gap": null,
      "grid_row": null,
      "grid_template_areas": null,
      "grid_template_columns": null,
      "grid_template_rows": null,
      "height": null,
      "justify_content": null,
      "justify_items": null,
      "left": null,
      "margin": null,
      "max_height": null,
      "max_width": null,
      "min_height": null,
      "min_width": null,
      "object_fit": null,
      "object_position": null,
      "order": null,
      "overflow": null,
      "overflow_x": null,
      "overflow_y": null,
      "padding": null,
      "right": null,
      "top": null,
      "visibility": null,
      "width": null
     }
    },
    "0f9e37d54e0746479d29fb43d942c0d7": {
     "model_module": "@jupyter-widgets/controls",
     "model_module_version": "1.5.0",
     "model_name": "HTMLModel",
     "state": {
      "_dom_classes": [],
      "_model_module": "@jupyter-widgets/controls",
      "_model_module_version": "1.5.0",
      "_model_name": "HTMLModel",
      "_view_count": null,
      "_view_module": "@jupyter-widgets/controls",
      "_view_module_version": "1.5.0",
      "_view_name": "HTMLView",
      "description": "",
      "description_tooltip": null,
      "layout": "IPY_MODEL_30957dc7cb794adc94fe988508aa835a",
      "placeholder": "​",
      "style": "IPY_MODEL_a6d067b473b442feb43c22655e4be5cc",
      "value": " 570/570 [00:00&lt;00:00, 9.79kB/s]"
     }
    },
    "18556e4847de4e0b984f125d8160d7e6": {
     "model_module": "@jupyter-widgets/controls",
     "model_module_version": "1.5.0",
     "model_name": "HTMLModel",
     "state": {
      "_dom_classes": [],
      "_model_module": "@jupyter-widgets/controls",
      "_model_module_version": "1.5.0",
      "_model_name": "HTMLModel",
      "_view_count": null,
      "_view_module": "@jupyter-widgets/controls",
      "_view_module_version": "1.5.0",
      "_view_name": "HTMLView",
      "description": "",
      "description_tooltip": null,
      "layout": "IPY_MODEL_3e1e2538702b4469a27eb7c16894638a",
      "placeholder": "​",
      "style": "IPY_MODEL_76d2b2bbd3cc47929b45ddad4e1e8c8d",
      "value": " 29.0/29.0 [00:00&lt;00:00, 516B/s]"
     }
    },
    "1880191ac1ba4941b331f9963b7c7b8a": {
     "model_module": "@jupyter-widgets/controls",
     "model_module_version": "1.5.0",
     "model_name": "FloatProgressModel",
     "state": {
      "_dom_classes": [],
      "_model_module": "@jupyter-widgets/controls",
      "_model_module_version": "1.5.0",
      "_model_name": "FloatProgressModel",
      "_view_count": null,
      "_view_module": "@jupyter-widgets/controls",
      "_view_module_version": "1.5.0",
      "_view_name": "ProgressView",
      "bar_style": "success",
      "description": "",
      "description_tooltip": null,
      "layout": "IPY_MODEL_5b450b0f9dfb4b7d89334afbddda4f23",
      "max": 435797,
      "min": 0,
      "orientation": "horizontal",
      "style": "IPY_MODEL_1cdece61ae7b42a0990ee8dd37bdf7a9",
      "value": 435797
     }
    },
    "18d95e51b48346f7a87cb881d3e9abb7": {
     "model_module": "@jupyter-widgets/base",
     "model_module_version": "1.2.0",
     "model_name": "LayoutModel",
     "state": {
      "_model_module": "@jupyter-widgets/base",
      "_model_module_version": "1.2.0",
      "_model_name": "LayoutModel",
      "_view_count": null,
      "_view_module": "@jupyter-widgets/base",
      "_view_module_version": "1.2.0",
      "_view_name": "LayoutView",
      "align_content": null,
      "align_items": null,
      "align_self": null,
      "border": null,
      "bottom": null,
      "display": null,
      "flex": null,
      "flex_flow": null,
      "grid_area": null,
      "grid_auto_columns": null,
      "grid_auto_flow": null,
      "grid_auto_rows": null,
      "grid_column": null,
      "grid_gap": null,
      "grid_row": null,
      "grid_template_areas": null,
      "grid_template_columns": null,
      "grid_template_rows": null,
      "height": null,
      "justify_content": null,
      "justify_items": null,
      "left": null,
      "margin": null,
      "max_height": null,
      "max_width": null,
      "min_height": null,
      "min_width": null,
      "object_fit": null,
      "object_position": null,
      "order": null,
      "overflow": null,
      "overflow_x": null,
      "overflow_y": null,
      "padding": null,
      "right": null,
      "top": null,
      "visibility": null,
      "width": null
     }
    },
    "1ab99b1c053a4b41bd9d9e96a1435826": {
     "model_module": "@jupyter-widgets/controls",
     "model_module_version": "1.5.0",
     "model_name": "HTMLModel",
     "state": {
      "_dom_classes": [],
      "_model_module": "@jupyter-widgets/controls",
      "_model_module_version": "1.5.0",
      "_model_name": "HTMLModel",
      "_view_count": null,
      "_view_module": "@jupyter-widgets/controls",
      "_view_module_version": "1.5.0",
      "_view_name": "HTMLView",
      "description": "",
      "description_tooltip": null,
      "layout": "IPY_MODEL_05eeea4639bf4c29a8ec233a07ab9115",
      "placeholder": "​",
      "style": "IPY_MODEL_094e7147bc8a4b48920da77956dad21f",
      "value": " 426k/426k [00:00&lt;00:00, 1.04MB/s]"
     }
    },
    "1cdece61ae7b42a0990ee8dd37bdf7a9": {
     "model_module": "@jupyter-widgets/controls",
     "model_module_version": "1.5.0",
     "model_name": "ProgressStyleModel",
     "state": {
      "_model_module": "@jupyter-widgets/controls",
      "_model_module_version": "1.5.0",
      "_model_name": "ProgressStyleModel",
      "_view_count": null,
      "_view_module": "@jupyter-widgets/base",
      "_view_module_version": "1.2.0",
      "_view_name": "StyleView",
      "bar_color": null,
      "description_width": ""
     }
    },
    "267980d9d99140879ab79a6e60027865": {
     "model_module": "@jupyter-widgets/controls",
     "model_module_version": "1.5.0",
     "model_name": "FloatProgressModel",
     "state": {
      "_dom_classes": [],
      "_model_module": "@jupyter-widgets/controls",
      "_model_module_version": "1.5.0",
      "_model_name": "FloatProgressModel",
      "_view_count": null,
      "_view_module": "@jupyter-widgets/controls",
      "_view_module_version": "1.5.0",
      "_view_name": "ProgressView",
      "bar_style": "success",
      "description": "",
      "description_tooltip": null,
      "layout": "IPY_MODEL_cb1997ca843547b3b1735bd83991d57a",
      "max": 29,
      "min": 0,
      "orientation": "horizontal",
      "style": "IPY_MODEL_d2c4f90729c54b7d9cd21e332a2ccb50",
      "value": 29
     }
    },
    "279c1dc56e964c7b8ca4f7baf22d056a": {
     "model_module": "@jupyter-widgets/controls",
     "model_module_version": "1.5.0",
     "model_name": "DescriptionStyleModel",
     "state": {
      "_model_module": "@jupyter-widgets/controls",
      "_model_module_version": "1.5.0",
      "_model_name": "DescriptionStyleModel",
      "_view_count": null,
      "_view_module": "@jupyter-widgets/base",
      "_view_module_version": "1.2.0",
      "_view_name": "StyleView",
      "description_width": ""
     }
    },
    "2ca5cf55300a4ee58db894fb130eb6c3": {
     "model_module": "@jupyter-widgets/controls",
     "model_module_version": "1.5.0",
     "model_name": "ProgressStyleModel",
     "state": {
      "_model_module": "@jupyter-widgets/controls",
      "_model_module_version": "1.5.0",
      "_model_name": "ProgressStyleModel",
      "_view_count": null,
      "_view_module": "@jupyter-widgets/base",
      "_view_module_version": "1.2.0",
      "_view_name": "StyleView",
      "bar_color": null,
      "description_width": ""
     }
    },
    "30957dc7cb794adc94fe988508aa835a": {
     "model_module": "@jupyter-widgets/base",
     "model_module_version": "1.2.0",
     "model_name": "LayoutModel",
     "state": {
      "_model_module": "@jupyter-widgets/base",
      "_model_module_version": "1.2.0",
      "_model_name": "LayoutModel",
      "_view_count": null,
      "_view_module": "@jupyter-widgets/base",
      "_view_module_version": "1.2.0",
      "_view_name": "LayoutView",
      "align_content": null,
      "align_items": null,
      "align_self": null,
      "border": null,
      "bottom": null,
      "display": null,
      "flex": null,
      "flex_flow": null,
      "grid_area": null,
      "grid_auto_columns": null,
      "grid_auto_flow": null,
      "grid_auto_rows": null,
      "grid_column": null,
      "grid_gap": null,
      "grid_row": null,
      "grid_template_areas": null,
      "grid_template_columns": null,
      "grid_template_rows": null,
      "height": null,
      "justify_content": null,
      "justify_items": null,
      "left": null,
      "margin": null,
      "max_height": null,
      "max_width": null,
      "min_height": null,
      "min_width": null,
      "object_fit": null,
      "object_position": null,
      "order": null,
      "overflow": null,
      "overflow_x": null,
      "overflow_y": null,
      "padding": null,
      "right": null,
      "top": null,
      "visibility": null,
      "width": null
     }
    },
    "31703857b7e74979abe8c0a71b2a9807": {
     "model_module": "@jupyter-widgets/base",
     "model_module_version": "1.2.0",
     "model_name": "LayoutModel",
     "state": {
      "_model_module": "@jupyter-widgets/base",
      "_model_module_version": "1.2.0",
      "_model_name": "LayoutModel",
      "_view_count": null,
      "_view_module": "@jupyter-widgets/base",
      "_view_module_version": "1.2.0",
      "_view_name": "LayoutView",
      "align_content": null,
      "align_items": null,
      "align_self": null,
      "border": null,
      "bottom": null,
      "display": null,
      "flex": null,
      "flex_flow": null,
      "grid_area": null,
      "grid_auto_columns": null,
      "grid_auto_flow": null,
      "grid_auto_rows": null,
      "grid_column": null,
      "grid_gap": null,
      "grid_row": null,
      "grid_template_areas": null,
      "grid_template_columns": null,
      "grid_template_rows": null,
      "height": null,
      "justify_content": null,
      "justify_items": null,
      "left": null,
      "margin": null,
      "max_height": null,
      "max_width": null,
      "min_height": null,
      "min_width": null,
      "object_fit": null,
      "object_position": null,
      "order": null,
      "overflow": null,
      "overflow_x": null,
      "overflow_y": null,
      "padding": null,
      "right": null,
      "top": null,
      "visibility": null,
      "width": null
     }
    },
    "3b31ef7cef364b8c9dda7e27928e60aa": {
     "model_module": "@jupyter-widgets/controls",
     "model_module_version": "1.5.0",
     "model_name": "ProgressStyleModel",
     "state": {
      "_model_module": "@jupyter-widgets/controls",
      "_model_module_version": "1.5.0",
      "_model_name": "ProgressStyleModel",
      "_view_count": null,
      "_view_module": "@jupyter-widgets/base",
      "_view_module_version": "1.2.0",
      "_view_name": "StyleView",
      "bar_color": null,
      "description_width": ""
     }
    },
    "3e1e2538702b4469a27eb7c16894638a": {
     "model_module": "@jupyter-widgets/base",
     "model_module_version": "1.2.0",
     "model_name": "LayoutModel",
     "state": {
      "_model_module": "@jupyter-widgets/base",
      "_model_module_version": "1.2.0",
      "_model_name": "LayoutModel",
      "_view_count": null,
      "_view_module": "@jupyter-widgets/base",
      "_view_module_version": "1.2.0",
      "_view_name": "LayoutView",
      "align_content": null,
      "align_items": null,
      "align_self": null,
      "border": null,
      "bottom": null,
      "display": null,
      "flex": null,
      "flex_flow": null,
      "grid_area": null,
      "grid_auto_columns": null,
      "grid_auto_flow": null,
      "grid_auto_rows": null,
      "grid_column": null,
      "grid_gap": null,
      "grid_row": null,
      "grid_template_areas": null,
      "grid_template_columns": null,
      "grid_template_rows": null,
      "height": null,
      "justify_content": null,
      "justify_items": null,
      "left": null,
      "margin": null,
      "max_height": null,
      "max_width": null,
      "min_height": null,
      "min_width": null,
      "object_fit": null,
      "object_position": null,
      "order": null,
      "overflow": null,
      "overflow_x": null,
      "overflow_y": null,
      "padding": null,
      "right": null,
      "top": null,
      "visibility": null,
      "width": null
     }
    },
    "4369fcbf7613428fbe061d969eaf4314": {
     "model_module": "@jupyter-widgets/controls",
     "model_module_version": "1.5.0",
     "model_name": "HTMLModel",
     "state": {
      "_dom_classes": [],
      "_model_module": "@jupyter-widgets/controls",
      "_model_module_version": "1.5.0",
      "_model_name": "HTMLModel",
      "_view_count": null,
      "_view_module": "@jupyter-widgets/controls",
      "_view_module_version": "1.5.0",
      "_view_name": "HTMLView",
      "description": "",
      "description_tooltip": null,
      "layout": "IPY_MODEL_e2ad8880d365431aba11c59d977282f1",
      "placeholder": "​",
      "style": "IPY_MODEL_fef4a5d0e41f4322a38bbf5c50c4ba9b",
      "value": " 208k/208k [00:00&lt;00:00, 949kB/s]"
     }
    },
    "52b11336176c4272a41b41ef73557032": {
     "model_module": "@jupyter-widgets/base",
     "model_module_version": "1.2.0",
     "model_name": "LayoutModel",
     "state": {
      "_model_module": "@jupyter-widgets/base",
      "_model_module_version": "1.2.0",
      "_model_name": "LayoutModel",
      "_view_count": null,
      "_view_module": "@jupyter-widgets/base",
      "_view_module_version": "1.2.0",
      "_view_name": "LayoutView",
      "align_content": null,
      "align_items": null,
      "align_self": null,
      "border": null,
      "bottom": null,
      "display": null,
      "flex": null,
      "flex_flow": null,
      "grid_area": null,
      "grid_auto_columns": null,
      "grid_auto_flow": null,
      "grid_auto_rows": null,
      "grid_column": null,
      "grid_gap": null,
      "grid_row": null,
      "grid_template_areas": null,
      "grid_template_columns": null,
      "grid_template_rows": null,
      "height": null,
      "justify_content": null,
      "justify_items": null,
      "left": null,
      "margin": null,
      "max_height": null,
      "max_width": null,
      "min_height": null,
      "min_width": null,
      "object_fit": null,
      "object_position": null,
      "order": null,
      "overflow": null,
      "overflow_x": null,
      "overflow_y": null,
      "padding": null,
      "right": null,
      "top": null,
      "visibility": null,
      "width": null
     }
    },
    "5b450b0f9dfb4b7d89334afbddda4f23": {
     "model_module": "@jupyter-widgets/base",
     "model_module_version": "1.2.0",
     "model_name": "LayoutModel",
     "state": {
      "_model_module": "@jupyter-widgets/base",
      "_model_module_version": "1.2.0",
      "_model_name": "LayoutModel",
      "_view_count": null,
      "_view_module": "@jupyter-widgets/base",
      "_view_module_version": "1.2.0",
      "_view_name": "LayoutView",
      "align_content": null,
      "align_items": null,
      "align_self": null,
      "border": null,
      "bottom": null,
      "display": null,
      "flex": null,
      "flex_flow": null,
      "grid_area": null,
      "grid_auto_columns": null,
      "grid_auto_flow": null,
      "grid_auto_rows": null,
      "grid_column": null,
      "grid_gap": null,
      "grid_row": null,
      "grid_template_areas": null,
      "grid_template_columns": null,
      "grid_template_rows": null,
      "height": null,
      "justify_content": null,
      "justify_items": null,
      "left": null,
      "margin": null,
      "max_height": null,
      "max_width": null,
      "min_height": null,
      "min_width": null,
      "object_fit": null,
      "object_position": null,
      "order": null,
      "overflow": null,
      "overflow_x": null,
      "overflow_y": null,
      "padding": null,
      "right": null,
      "top": null,
      "visibility": null,
      "width": null
     }
    },
    "5b892a8992bc4c3e918ecf6a43b9a5f5": {
     "model_module": "@jupyter-widgets/base",
     "model_module_version": "1.2.0",
     "model_name": "LayoutModel",
     "state": {
      "_model_module": "@jupyter-widgets/base",
      "_model_module_version": "1.2.0",
      "_model_name": "LayoutModel",
      "_view_count": null,
      "_view_module": "@jupyter-widgets/base",
      "_view_module_version": "1.2.0",
      "_view_name": "LayoutView",
      "align_content": null,
      "align_items": null,
      "align_self": null,
      "border": null,
      "bottom": null,
      "display": null,
      "flex": null,
      "flex_flow": null,
      "grid_area": null,
      "grid_auto_columns": null,
      "grid_auto_flow": null,
      "grid_auto_rows": null,
      "grid_column": null,
      "grid_gap": null,
      "grid_row": null,
      "grid_template_areas": null,
      "grid_template_columns": null,
      "grid_template_rows": null,
      "height": null,
      "justify_content": null,
      "justify_items": null,
      "left": null,
      "margin": null,
      "max_height": null,
      "max_width": null,
      "min_height": null,
      "min_width": null,
      "object_fit": null,
      "object_position": null,
      "order": null,
      "overflow": null,
      "overflow_x": null,
      "overflow_y": null,
      "padding": null,
      "right": null,
      "top": null,
      "visibility": null,
      "width": null
     }
    },
    "6886e567a43543518a00c7b2e5fa0a11": {
     "model_module": "@jupyter-widgets/controls",
     "model_module_version": "1.5.0",
     "model_name": "HBoxModel",
     "state": {
      "_dom_classes": [],
      "_model_module": "@jupyter-widgets/controls",
      "_model_module_version": "1.5.0",
      "_model_name": "HBoxModel",
      "_view_count": null,
      "_view_module": "@jupyter-widgets/controls",
      "_view_module_version": "1.5.0",
      "_view_name": "HBoxView",
      "box_style": "",
      "children": [
       "IPY_MODEL_fa9a897c04f647fa93bca30136a6c929",
       "IPY_MODEL_267980d9d99140879ab79a6e60027865",
       "IPY_MODEL_18556e4847de4e0b984f125d8160d7e6"
      ],
      "layout": "IPY_MODEL_18d95e51b48346f7a87cb881d3e9abb7"
     }
    },
    "76d2b2bbd3cc47929b45ddad4e1e8c8d": {
     "model_module": "@jupyter-widgets/controls",
     "model_module_version": "1.5.0",
     "model_name": "DescriptionStyleModel",
     "state": {
      "_model_module": "@jupyter-widgets/controls",
      "_model_module_version": "1.5.0",
      "_model_name": "DescriptionStyleModel",
      "_view_count": null,
      "_view_module": "@jupyter-widgets/base",
      "_view_module_version": "1.2.0",
      "_view_name": "StyleView",
      "description_width": ""
     }
    },
    "816b90095feb4c4694983575ac9d610d": {
     "model_module": "@jupyter-widgets/controls",
     "model_module_version": "1.5.0",
     "model_name": "HTMLModel",
     "state": {
      "_dom_classes": [],
      "_model_module": "@jupyter-widgets/controls",
      "_model_module_version": "1.5.0",
      "_model_name": "HTMLModel",
      "_view_count": null,
      "_view_module": "@jupyter-widgets/controls",
      "_view_module_version": "1.5.0",
      "_view_name": "HTMLView",
      "description": "",
      "description_tooltip": null,
      "layout": "IPY_MODEL_ca831770278a4978964368fc085ff1b7",
      "placeholder": "​",
      "style": "IPY_MODEL_279c1dc56e964c7b8ca4f7baf22d056a",
      "value": " 502M/502M [00:16&lt;00:00, 33.8MB/s]"
     }
    },
    "8c83c15ff3e040b9a07c37292d5e38a8": {
     "model_module": "@jupyter-widgets/controls",
     "model_module_version": "1.5.0",
     "model_name": "HTMLModel",
     "state": {
      "_dom_classes": [],
      "_model_module": "@jupyter-widgets/controls",
      "_model_module_version": "1.5.0",
      "_model_name": "HTMLModel",
      "_view_count": null,
      "_view_module": "@jupyter-widgets/controls",
      "_view_module_version": "1.5.0",
      "_view_name": "HTMLView",
      "description": "",
      "description_tooltip": null,
      "layout": "IPY_MODEL_d1ea9a0b33794815a4138396d72f94bf",
      "placeholder": "​",
      "style": "IPY_MODEL_a058ebca944649189d592f577a2c8aec",
      "value": "Downloading: 100%"
     }
    },
    "96902c463ceb450f9ba90749e807802c": {
     "model_module": "@jupyter-widgets/controls",
     "model_module_version": "1.5.0",
     "model_name": "HTMLModel",
     "state": {
      "_dom_classes": [],
      "_model_module": "@jupyter-widgets/controls",
      "_model_module_version": "1.5.0",
      "_model_name": "HTMLModel",
      "_view_count": null,
      "_view_module": "@jupyter-widgets/controls",
      "_view_module_version": "1.5.0",
      "_view_name": "HTMLView",
      "description": "",
      "description_tooltip": null,
      "layout": "IPY_MODEL_e308a76f18d547e68a6145b1964a034c",
      "placeholder": "​",
      "style": "IPY_MODEL_0b5db35bc2b844babb7e9abad774e022",
      "value": "Downloading: 100%"
     }
    },
    "96977873ddc6464c8eb3702d4f82421a": {
     "model_module": "@jupyter-widgets/base",
     "model_module_version": "1.2.0",
     "model_name": "LayoutModel",
     "state": {
      "_model_module": "@jupyter-widgets/base",
      "_model_module_version": "1.2.0",
      "_model_name": "LayoutModel",
      "_view_count": null,
      "_view_module": "@jupyter-widgets/base",
      "_view_module_version": "1.2.0",
      "_view_name": "LayoutView",
      "align_content": null,
      "align_items": null,
      "align_self": null,
      "border": null,
      "bottom": null,
      "display": null,
      "flex": null,
      "flex_flow": null,
      "grid_area": null,
      "grid_auto_columns": null,
      "grid_auto_flow": null,
      "grid_auto_rows": null,
      "grid_column": null,
      "grid_gap": null,
      "grid_row": null,
      "grid_template_areas": null,
      "grid_template_columns": null,
      "grid_template_rows": null,
      "height": null,
      "justify_content": null,
      "justify_items": null,
      "left": null,
      "margin": null,
      "max_height": null,
      "max_width": null,
      "min_height": null,
      "min_width": null,
      "object_fit": null,
      "object_position": null,
      "order": null,
      "overflow": null,
      "overflow_x": null,
      "overflow_y": null,
      "padding": null,
      "right": null,
      "top": null,
      "visibility": null,
      "width": null
     }
    },
    "9ef042fd3e2d4369aff5d03a256aa0c9": {
     "model_module": "@jupyter-widgets/controls",
     "model_module_version": "1.5.0",
     "model_name": "FloatProgressModel",
     "state": {
      "_dom_classes": [],
      "_model_module": "@jupyter-widgets/controls",
      "_model_module_version": "1.5.0",
      "_model_name": "FloatProgressModel",
      "_view_count": null,
      "_view_module": "@jupyter-widgets/controls",
      "_view_module_version": "1.5.0",
      "_view_name": "ProgressView",
      "bar_style": "success",
      "description": "",
      "description_tooltip": null,
      "layout": "IPY_MODEL_5b892a8992bc4c3e918ecf6a43b9a5f5",
      "max": 526681800,
      "min": 0,
      "orientation": "horizontal",
      "style": "IPY_MODEL_2ca5cf55300a4ee58db894fb130eb6c3",
      "value": 526681800
     }
    },
    "a058ebca944649189d592f577a2c8aec": {
     "model_module": "@jupyter-widgets/controls",
     "model_module_version": "1.5.0",
     "model_name": "DescriptionStyleModel",
     "state": {
      "_model_module": "@jupyter-widgets/controls",
      "_model_module_version": "1.5.0",
      "_model_name": "DescriptionStyleModel",
      "_view_count": null,
      "_view_module": "@jupyter-widgets/base",
      "_view_module_version": "1.2.0",
      "_view_name": "StyleView",
      "description_width": ""
     }
    },
    "a41004a8154c47ae90d6107b45e7b691": {
     "model_module": "@jupyter-widgets/controls",
     "model_module_version": "1.5.0",
     "model_name": "HBoxModel",
     "state": {
      "_dom_classes": [],
      "_model_module": "@jupyter-widgets/controls",
      "_model_module_version": "1.5.0",
      "_model_name": "HBoxModel",
      "_view_count": null,
      "_view_module": "@jupyter-widgets/controls",
      "_view_module_version": "1.5.0",
      "_view_name": "HBoxView",
      "box_style": "",
      "children": [
       "IPY_MODEL_04898636062345d1b217a780a6d2d660",
       "IPY_MODEL_f9122fbc9340430a825db787e293313f",
       "IPY_MODEL_0f9e37d54e0746479d29fb43d942c0d7"
      ],
      "layout": "IPY_MODEL_31703857b7e74979abe8c0a71b2a9807"
     }
    },
    "a5903e978de846b19b865cc3b5c5da04": {
     "model_module": "@jupyter-widgets/base",
     "model_module_version": "1.2.0",
     "model_name": "LayoutModel",
     "state": {
      "_model_module": "@jupyter-widgets/base",
      "_model_module_version": "1.2.0",
      "_model_name": "LayoutModel",
      "_view_count": null,
      "_view_module": "@jupyter-widgets/base",
      "_view_module_version": "1.2.0",
      "_view_name": "LayoutView",
      "align_content": null,
      "align_items": null,
      "align_self": null,
      "border": null,
      "bottom": null,
      "display": null,
      "flex": null,
      "flex_flow": null,
      "grid_area": null,
      "grid_auto_columns": null,
      "grid_auto_flow": null,
      "grid_auto_rows": null,
      "grid_column": null,
      "grid_gap": null,
      "grid_row": null,
      "grid_template_areas": null,
      "grid_template_columns": null,
      "grid_template_rows": null,
      "height": null,
      "justify_content": null,
      "justify_items": null,
      "left": null,
      "margin": null,
      "max_height": null,
      "max_width": null,
      "min_height": null,
      "min_width": null,
      "object_fit": null,
      "object_position": null,
      "order": null,
      "overflow": null,
      "overflow_x": null,
      "overflow_y": null,
      "padding": null,
      "right": null,
      "top": null,
      "visibility": null,
      "width": null
     }
    },
    "a6d067b473b442feb43c22655e4be5cc": {
     "model_module": "@jupyter-widgets/controls",
     "model_module_version": "1.5.0",
     "model_name": "DescriptionStyleModel",
     "state": {
      "_model_module": "@jupyter-widgets/controls",
      "_model_module_version": "1.5.0",
      "_model_name": "DescriptionStyleModel",
      "_view_count": null,
      "_view_module": "@jupyter-widgets/base",
      "_view_module_version": "1.2.0",
      "_view_name": "StyleView",
      "description_width": ""
     }
    },
    "a83e8e4f9c8044268e9a703e69d4274b": {
     "model_module": "@jupyter-widgets/controls",
     "model_module_version": "1.5.0",
     "model_name": "FloatProgressModel",
     "state": {
      "_dom_classes": [],
      "_model_module": "@jupyter-widgets/controls",
      "_model_module_version": "1.5.0",
      "_model_name": "FloatProgressModel",
      "_view_count": null,
      "_view_module": "@jupyter-widgets/controls",
      "_view_module_version": "1.5.0",
      "_view_name": "ProgressView",
      "bar_style": "success",
      "description": "",
      "description_tooltip": null,
      "layout": "IPY_MODEL_0eb659834bd74177a3580db818ac0c08",
      "max": 213450,
      "min": 0,
      "orientation": "horizontal",
      "style": "IPY_MODEL_3b31ef7cef364b8c9dda7e27928e60aa",
      "value": 213450
     }
    },
    "ba59e48a10e047c29879275498d32cdd": {
     "model_module": "@jupyter-widgets/base",
     "model_module_version": "1.2.0",
     "model_name": "LayoutModel",
     "state": {
      "_model_module": "@jupyter-widgets/base",
      "_model_module_version": "1.2.0",
      "_model_name": "LayoutModel",
      "_view_count": null,
      "_view_module": "@jupyter-widgets/base",
      "_view_module_version": "1.2.0",
      "_view_name": "LayoutView",
      "align_content": null,
      "align_items": null,
      "align_self": null,
      "border": null,
      "bottom": null,
      "display": null,
      "flex": null,
      "flex_flow": null,
      "grid_area": null,
      "grid_auto_columns": null,
      "grid_auto_flow": null,
      "grid_auto_rows": null,
      "grid_column": null,
      "grid_gap": null,
      "grid_row": null,
      "grid_template_areas": null,
      "grid_template_columns": null,
      "grid_template_rows": null,
      "height": null,
      "justify_content": null,
      "justify_items": null,
      "left": null,
      "margin": null,
      "max_height": null,
      "max_width": null,
      "min_height": null,
      "min_width": null,
      "object_fit": null,
      "object_position": null,
      "order": null,
      "overflow": null,
      "overflow_x": null,
      "overflow_y": null,
      "padding": null,
      "right": null,
      "top": null,
      "visibility": null,
      "width": null
     }
    },
    "c38c8d3ad88f449a8197469cd88ad6aa": {
     "model_module": "@jupyter-widgets/controls",
     "model_module_version": "1.5.0",
     "model_name": "DescriptionStyleModel",
     "state": {
      "_model_module": "@jupyter-widgets/controls",
      "_model_module_version": "1.5.0",
      "_model_name": "DescriptionStyleModel",
      "_view_count": null,
      "_view_module": "@jupyter-widgets/base",
      "_view_module_version": "1.2.0",
      "_view_name": "StyleView",
      "description_width": ""
     }
    },
    "ca831770278a4978964368fc085ff1b7": {
     "model_module": "@jupyter-widgets/base",
     "model_module_version": "1.2.0",
     "model_name": "LayoutModel",
     "state": {
      "_model_module": "@jupyter-widgets/base",
      "_model_module_version": "1.2.0",
      "_model_name": "LayoutModel",
      "_view_count": null,
      "_view_module": "@jupyter-widgets/base",
      "_view_module_version": "1.2.0",
      "_view_name": "LayoutView",
      "align_content": null,
      "align_items": null,
      "align_self": null,
      "border": null,
      "bottom": null,
      "display": null,
      "flex": null,
      "flex_flow": null,
      "grid_area": null,
      "grid_auto_columns": null,
      "grid_auto_flow": null,
      "grid_auto_rows": null,
      "grid_column": null,
      "grid_gap": null,
      "grid_row": null,
      "grid_template_areas": null,
      "grid_template_columns": null,
      "grid_template_rows": null,
      "height": null,
      "justify_content": null,
      "justify_items": null,
      "left": null,
      "margin": null,
      "max_height": null,
      "max_width": null,
      "min_height": null,
      "min_width": null,
      "object_fit": null,
      "object_position": null,
      "order": null,
      "overflow": null,
      "overflow_x": null,
      "overflow_y": null,
      "padding": null,
      "right": null,
      "top": null,
      "visibility": null,
      "width": null
     }
    },
    "cb1997ca843547b3b1735bd83991d57a": {
     "model_module": "@jupyter-widgets/base",
     "model_module_version": "1.2.0",
     "model_name": "LayoutModel",
     "state": {
      "_model_module": "@jupyter-widgets/base",
      "_model_module_version": "1.2.0",
      "_model_name": "LayoutModel",
      "_view_count": null,
      "_view_module": "@jupyter-widgets/base",
      "_view_module_version": "1.2.0",
      "_view_name": "LayoutView",
      "align_content": null,
      "align_items": null,
      "align_self": null,
      "border": null,
      "bottom": null,
      "display": null,
      "flex": null,
      "flex_flow": null,
      "grid_area": null,
      "grid_auto_columns": null,
      "grid_auto_flow": null,
      "grid_auto_rows": null,
      "grid_column": null,
      "grid_gap": null,
      "grid_row": null,
      "grid_template_areas": null,
      "grid_template_columns": null,
      "grid_template_rows": null,
      "height": null,
      "justify_content": null,
      "justify_items": null,
      "left": null,
      "margin": null,
      "max_height": null,
      "max_width": null,
      "min_height": null,
      "min_width": null,
      "object_fit": null,
      "object_position": null,
      "order": null,
      "overflow": null,
      "overflow_x": null,
      "overflow_y": null,
      "padding": null,
      "right": null,
      "top": null,
      "visibility": null,
      "width": null
     }
    },
    "d02283bbaaa9448aa0512263f9fe39cd": {
     "model_module": "@jupyter-widgets/base",
     "model_module_version": "1.2.0",
     "model_name": "LayoutModel",
     "state": {
      "_model_module": "@jupyter-widgets/base",
      "_model_module_version": "1.2.0",
      "_model_name": "LayoutModel",
      "_view_count": null,
      "_view_module": "@jupyter-widgets/base",
      "_view_module_version": "1.2.0",
      "_view_name": "LayoutView",
      "align_content": null,
      "align_items": null,
      "align_self": null,
      "border": null,
      "bottom": null,
      "display": null,
      "flex": null,
      "flex_flow": null,
      "grid_area": null,
      "grid_auto_columns": null,
      "grid_auto_flow": null,
      "grid_auto_rows": null,
      "grid_column": null,
      "grid_gap": null,
      "grid_row": null,
      "grid_template_areas": null,
      "grid_template_columns": null,
      "grid_template_rows": null,
      "height": null,
      "justify_content": null,
      "justify_items": null,
      "left": null,
      "margin": null,
      "max_height": null,
      "max_width": null,
      "min_height": null,
      "min_width": null,
      "object_fit": null,
      "object_position": null,
      "order": null,
      "overflow": null,
      "overflow_x": null,
      "overflow_y": null,
      "padding": null,
      "right": null,
      "top": null,
      "visibility": null,
      "width": null
     }
    },
    "d1ea9a0b33794815a4138396d72f94bf": {
     "model_module": "@jupyter-widgets/base",
     "model_module_version": "1.2.0",
     "model_name": "LayoutModel",
     "state": {
      "_model_module": "@jupyter-widgets/base",
      "_model_module_version": "1.2.0",
      "_model_name": "LayoutModel",
      "_view_count": null,
      "_view_module": "@jupyter-widgets/base",
      "_view_module_version": "1.2.0",
      "_view_name": "LayoutView",
      "align_content": null,
      "align_items": null,
      "align_self": null,
      "border": null,
      "bottom": null,
      "display": null,
      "flex": null,
      "flex_flow": null,
      "grid_area": null,
      "grid_auto_columns": null,
      "grid_auto_flow": null,
      "grid_auto_rows": null,
      "grid_column": null,
      "grid_gap": null,
      "grid_row": null,
      "grid_template_areas": null,
      "grid_template_columns": null,
      "grid_template_rows": null,
      "height": null,
      "justify_content": null,
      "justify_items": null,
      "left": null,
      "margin": null,
      "max_height": null,
      "max_width": null,
      "min_height": null,
      "min_width": null,
      "object_fit": null,
      "object_position": null,
      "order": null,
      "overflow": null,
      "overflow_x": null,
      "overflow_y": null,
      "padding": null,
      "right": null,
      "top": null,
      "visibility": null,
      "width": null
     }
    },
    "d2c4f90729c54b7d9cd21e332a2ccb50": {
     "model_module": "@jupyter-widgets/controls",
     "model_module_version": "1.5.0",
     "model_name": "ProgressStyleModel",
     "state": {
      "_model_module": "@jupyter-widgets/controls",
      "_model_module_version": "1.5.0",
      "_model_name": "ProgressStyleModel",
      "_view_count": null,
      "_view_module": "@jupyter-widgets/base",
      "_view_module_version": "1.2.0",
      "_view_name": "StyleView",
      "bar_color": null,
      "description_width": ""
     }
    },
    "d2dbba5342584a7abc4b78bcd16d276f": {
     "model_module": "@jupyter-widgets/controls",
     "model_module_version": "1.5.0",
     "model_name": "HBoxModel",
     "state": {
      "_dom_classes": [],
      "_model_module": "@jupyter-widgets/controls",
      "_model_module_version": "1.5.0",
      "_model_name": "HBoxModel",
      "_view_count": null,
      "_view_module": "@jupyter-widgets/controls",
      "_view_module_version": "1.5.0",
      "_view_name": "HBoxView",
      "box_style": "",
      "children": [
       "IPY_MODEL_8c83c15ff3e040b9a07c37292d5e38a8",
       "IPY_MODEL_9ef042fd3e2d4369aff5d03a256aa0c9",
       "IPY_MODEL_816b90095feb4c4694983575ac9d610d"
      ],
      "layout": "IPY_MODEL_52b11336176c4272a41b41ef73557032"
     }
    },
    "d57fb016b7dd4b66b83f4628c470e7df": {
     "model_module": "@jupyter-widgets/controls",
     "model_module_version": "1.5.0",
     "model_name": "HTMLModel",
     "state": {
      "_dom_classes": [],
      "_model_module": "@jupyter-widgets/controls",
      "_model_module_version": "1.5.0",
      "_model_name": "HTMLModel",
      "_view_count": null,
      "_view_module": "@jupyter-widgets/controls",
      "_view_module_version": "1.5.0",
      "_view_name": "HTMLView",
      "description": "",
      "description_tooltip": null,
      "layout": "IPY_MODEL_d9e6e0da5c194441ada7a0ac375c725c",
      "placeholder": "​",
      "style": "IPY_MODEL_f0c2e6f7abe24173a9ff93c9fbee3b5b",
      "value": "Downloading: 100%"
     }
    },
    "d9e6e0da5c194441ada7a0ac375c725c": {
     "model_module": "@jupyter-widgets/base",
     "model_module_version": "1.2.0",
     "model_name": "LayoutModel",
     "state": {
      "_model_module": "@jupyter-widgets/base",
      "_model_module_version": "1.2.0",
      "_model_name": "LayoutModel",
      "_view_count": null,
      "_view_module": "@jupyter-widgets/base",
      "_view_module_version": "1.2.0",
      "_view_name": "LayoutView",
      "align_content": null,
      "align_items": null,
      "align_self": null,
      "border": null,
      "bottom": null,
      "display": null,
      "flex": null,
      "flex_flow": null,
      "grid_area": null,
      "grid_auto_columns": null,
      "grid_auto_flow": null,
      "grid_auto_rows": null,
      "grid_column": null,
      "grid_gap": null,
      "grid_row": null,
      "grid_template_areas": null,
      "grid_template_columns": null,
      "grid_template_rows": null,
      "height": null,
      "justify_content": null,
      "justify_items": null,
      "left": null,
      "margin": null,
      "max_height": null,
      "max_width": null,
      "min_height": null,
      "min_width": null,
      "object_fit": null,
      "object_position": null,
      "order": null,
      "overflow": null,
      "overflow_x": null,
      "overflow_y": null,
      "padding": null,
      "right": null,
      "top": null,
      "visibility": null,
      "width": null
     }
    },
    "e2ad8880d365431aba11c59d977282f1": {
     "model_module": "@jupyter-widgets/base",
     "model_module_version": "1.2.0",
     "model_name": "LayoutModel",
     "state": {
      "_model_module": "@jupyter-widgets/base",
      "_model_module_version": "1.2.0",
      "_model_name": "LayoutModel",
      "_view_count": null,
      "_view_module": "@jupyter-widgets/base",
      "_view_module_version": "1.2.0",
      "_view_name": "LayoutView",
      "align_content": null,
      "align_items": null,
      "align_self": null,
      "border": null,
      "bottom": null,
      "display": null,
      "flex": null,
      "flex_flow": null,
      "grid_area": null,
      "grid_auto_columns": null,
      "grid_auto_flow": null,
      "grid_auto_rows": null,
      "grid_column": null,
      "grid_gap": null,
      "grid_row": null,
      "grid_template_areas": null,
      "grid_template_columns": null,
      "grid_template_rows": null,
      "height": null,
      "justify_content": null,
      "justify_items": null,
      "left": null,
      "margin": null,
      "max_height": null,
      "max_width": null,
      "min_height": null,
      "min_width": null,
      "object_fit": null,
      "object_position": null,
      "order": null,
      "overflow": null,
      "overflow_x": null,
      "overflow_y": null,
      "padding": null,
      "right": null,
      "top": null,
      "visibility": null,
      "width": null
     }
    },
    "e308a76f18d547e68a6145b1964a034c": {
     "model_module": "@jupyter-widgets/base",
     "model_module_version": "1.2.0",
     "model_name": "LayoutModel",
     "state": {
      "_model_module": "@jupyter-widgets/base",
      "_model_module_version": "1.2.0",
      "_model_name": "LayoutModel",
      "_view_count": null,
      "_view_module": "@jupyter-widgets/base",
      "_view_module_version": "1.2.0",
      "_view_name": "LayoutView",
      "align_content": null,
      "align_items": null,
      "align_self": null,
      "border": null,
      "bottom": null,
      "display": null,
      "flex": null,
      "flex_flow": null,
      "grid_area": null,
      "grid_auto_columns": null,
      "grid_auto_flow": null,
      "grid_auto_rows": null,
      "grid_column": null,
      "grid_gap": null,
      "grid_row": null,
      "grid_template_areas": null,
      "grid_template_columns": null,
      "grid_template_rows": null,
      "height": null,
      "justify_content": null,
      "justify_items": null,
      "left": null,
      "margin": null,
      "max_height": null,
      "max_width": null,
      "min_height": null,
      "min_width": null,
      "object_fit": null,
      "object_position": null,
      "order": null,
      "overflow": null,
      "overflow_x": null,
      "overflow_y": null,
      "padding": null,
      "right": null,
      "top": null,
      "visibility": null,
      "width": null
     }
    },
    "e4a188f9110d4b7587a4d91a5a2e08d4": {
     "model_module": "@jupyter-widgets/controls",
     "model_module_version": "1.5.0",
     "model_name": "HBoxModel",
     "state": {
      "_dom_classes": [],
      "_model_module": "@jupyter-widgets/controls",
      "_model_module_version": "1.5.0",
      "_model_name": "HBoxModel",
      "_view_count": null,
      "_view_module": "@jupyter-widgets/controls",
      "_view_module_version": "1.5.0",
      "_view_name": "HBoxView",
      "box_style": "",
      "children": [
       "IPY_MODEL_d57fb016b7dd4b66b83f4628c470e7df",
       "IPY_MODEL_a83e8e4f9c8044268e9a703e69d4274b",
       "IPY_MODEL_4369fcbf7613428fbe061d969eaf4314"
      ],
      "layout": "IPY_MODEL_96977873ddc6464c8eb3702d4f82421a"
     }
    },
    "e67b57578f25487b889584e84edec02d": {
     "model_module": "@jupyter-widgets/controls",
     "model_module_version": "1.5.0",
     "model_name": "HBoxModel",
     "state": {
      "_dom_classes": [],
      "_model_module": "@jupyter-widgets/controls",
      "_model_module_version": "1.5.0",
      "_model_name": "HBoxModel",
      "_view_count": null,
      "_view_module": "@jupyter-widgets/controls",
      "_view_module_version": "1.5.0",
      "_view_name": "HBoxView",
      "box_style": "",
      "children": [
       "IPY_MODEL_96902c463ceb450f9ba90749e807802c",
       "IPY_MODEL_1880191ac1ba4941b331f9963b7c7b8a",
       "IPY_MODEL_1ab99b1c053a4b41bd9d9e96a1435826"
      ],
      "layout": "IPY_MODEL_a5903e978de846b19b865cc3b5c5da04"
     }
    },
    "eb7e46f2dc1d4f68ad433b5daf7d620a": {
     "model_module": "@jupyter-widgets/controls",
     "model_module_version": "1.5.0",
     "model_name": "ProgressStyleModel",
     "state": {
      "_model_module": "@jupyter-widgets/controls",
      "_model_module_version": "1.5.0",
      "_model_name": "ProgressStyleModel",
      "_view_count": null,
      "_view_module": "@jupyter-widgets/base",
      "_view_module_version": "1.2.0",
      "_view_name": "StyleView",
      "bar_color": null,
      "description_width": ""
     }
    },
    "f0c2e6f7abe24173a9ff93c9fbee3b5b": {
     "model_module": "@jupyter-widgets/controls",
     "model_module_version": "1.5.0",
     "model_name": "DescriptionStyleModel",
     "state": {
      "_model_module": "@jupyter-widgets/controls",
      "_model_module_version": "1.5.0",
      "_model_name": "DescriptionStyleModel",
      "_view_count": null,
      "_view_module": "@jupyter-widgets/base",
      "_view_module_version": "1.2.0",
      "_view_name": "StyleView",
      "description_width": ""
     }
    },
    "f2ee9eda404c443ebc64e85296c4fb43": {
     "model_module": "@jupyter-widgets/base",
     "model_module_version": "1.2.0",
     "model_name": "LayoutModel",
     "state": {
      "_model_module": "@jupyter-widgets/base",
      "_model_module_version": "1.2.0",
      "_model_name": "LayoutModel",
      "_view_count": null,
      "_view_module": "@jupyter-widgets/base",
      "_view_module_version": "1.2.0",
      "_view_name": "LayoutView",
      "align_content": null,
      "align_items": null,
      "align_self": null,
      "border": null,
      "bottom": null,
      "display": null,
      "flex": null,
      "flex_flow": null,
      "grid_area": null,
      "grid_auto_columns": null,
      "grid_auto_flow": null,
      "grid_auto_rows": null,
      "grid_column": null,
      "grid_gap": null,
      "grid_row": null,
      "grid_template_areas": null,
      "grid_template_columns": null,
      "grid_template_rows": null,
      "height": null,
      "justify_content": null,
      "justify_items": null,
      "left": null,
      "margin": null,
      "max_height": null,
      "max_width": null,
      "min_height": null,
      "min_width": null,
      "object_fit": null,
      "object_position": null,
      "order": null,
      "overflow": null,
      "overflow_x": null,
      "overflow_y": null,
      "padding": null,
      "right": null,
      "top": null,
      "visibility": null,
      "width": null
     }
    },
    "f9122fbc9340430a825db787e293313f": {
     "model_module": "@jupyter-widgets/controls",
     "model_module_version": "1.5.0",
     "model_name": "FloatProgressModel",
     "state": {
      "_dom_classes": [],
      "_model_module": "@jupyter-widgets/controls",
      "_model_module_version": "1.5.0",
      "_model_name": "FloatProgressModel",
      "_view_count": null,
      "_view_module": "@jupyter-widgets/controls",
      "_view_module_version": "1.5.0",
      "_view_name": "ProgressView",
      "bar_style": "success",
      "description": "",
      "description_tooltip": null,
      "layout": "IPY_MODEL_f2ee9eda404c443ebc64e85296c4fb43",
      "max": 570,
      "min": 0,
      "orientation": "horizontal",
      "style": "IPY_MODEL_eb7e46f2dc1d4f68ad433b5daf7d620a",
      "value": 570
     }
    },
    "fa9a897c04f647fa93bca30136a6c929": {
     "model_module": "@jupyter-widgets/controls",
     "model_module_version": "1.5.0",
     "model_name": "HTMLModel",
     "state": {
      "_dom_classes": [],
      "_model_module": "@jupyter-widgets/controls",
      "_model_module_version": "1.5.0",
      "_model_name": "HTMLModel",
      "_view_count": null,
      "_view_module": "@jupyter-widgets/controls",
      "_view_module_version": "1.5.0",
      "_view_name": "HTMLView",
      "description": "",
      "description_tooltip": null,
      "layout": "IPY_MODEL_ba59e48a10e047c29879275498d32cdd",
      "placeholder": "​",
      "style": "IPY_MODEL_0a3eca5b7d174041b831183df885b535",
      "value": "Downloading: 100%"
     }
    },
    "fef4a5d0e41f4322a38bbf5c50c4ba9b": {
     "model_module": "@jupyter-widgets/controls",
     "model_module_version": "1.5.0",
     "model_name": "DescriptionStyleModel",
     "state": {
      "_model_module": "@jupyter-widgets/controls",
      "_model_module_version": "1.5.0",
      "_model_name": "DescriptionStyleModel",
      "_view_count": null,
      "_view_module": "@jupyter-widgets/base",
      "_view_module_version": "1.2.0",
      "_view_name": "StyleView",
      "description_width": ""
     }
    }
   }
  }
 },
 "nbformat": 4,
 "nbformat_minor": 5
}
